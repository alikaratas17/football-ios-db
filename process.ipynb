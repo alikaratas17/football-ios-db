{
 "cells": [
  {
   "cell_type": "markdown",
   "metadata": {},
   "source": [
    "## Mysql-Python Connection"
   ]
  },
  {
   "cell_type": "code",
   "execution_count": 42,
   "metadata": {},
   "outputs": [],
   "source": [
    "import mysql.connector\n",
    "import pandas as pd\n",
    "\n",
    "import matplotlib.pyplot as plt\n",
    "import seaborn as sns\n",
    "import csv\n",
    "\n",
    "%matplotlib inline"
   ]
  },
  {
   "cell_type": "code",
   "execution_count": 43,
   "metadata": {},
   "outputs": [
    {
     "name": "stdout",
     "output_type": "stream",
     "text": [
      "<mysql.connector.connection.MySQLConnection object at 0x7fe498638820>\n"
     ]
    }
   ],
   "source": [
    "db_connection = mysql.connector.connect(\n",
    "  host=\"localhost\",\n",
    "  user=\"root\",\n",
    "  passwd=\"306homeworks\", # change password\n",
    "  auth_plugin='mysql_native_password'\n",
    ")\n",
    "print(db_connection)"
   ]
  },
  {
   "cell_type": "markdown",
   "metadata": {},
   "source": [
    "### Create Database"
   ]
  },
  {
   "cell_type": "code",
   "execution_count": 44,
   "metadata": {},
   "outputs": [],
   "source": [
    "# creating database_cursor to perform SQL operation\n",
    "# to run queries\n",
    "db_cursor = db_connection.cursor(buffered=True)"
   ]
  },
  {
   "cell_type": "code",
   "execution_count": 45,
   "metadata": {},
   "outputs": [
    {
     "name": "stdout",
     "output_type": "stream",
     "text": [
      "('FootballWorld',)\n",
      "('information_schema',)\n",
      "('mysql',)\n",
      "('performance_schema',)\n",
      "('ps_ecommerce',)\n",
      "('sys',)\n",
      "('world',)\n"
     ]
    }
   ],
   "source": [
    "# executing cursor with execute method and pass SQL query\n",
    "#db_cursor.execute(\"CREATE DATABASE ps_ecommerce\")\n",
    "\n",
    "# get list of all databases\n",
    "db_cursor.execute(\"SHOW DATABASES\")\n",
    "\n",
    "# print all databases\n",
    "for db in db_cursor:\n",
    "    print(db)"
   ]
  },
  {
   "cell_type": "code",
   "execution_count": 46,
   "metadata": {},
   "outputs": [],
   "source": [
    "db_cursor.execute(\"USE FootballWorld\")"
   ]
  },
  {
   "cell_type": "code",
   "execution_count": 51,
   "metadata": {},
   "outputs": [],
   "source": [
    "db_cursor.execute(\"SELECT * FROM club\")\n",
    "x = db_cursor.fetchall()\n",
    "len(x)"
   ]
  },
  {
   "cell_type": "code",
   "execution_count": 52,
   "metadata": {},
   "outputs": [
    {
     "data": {
      "text/plain": [
       "24"
      ]
     },
     "execution_count": 52,
     "metadata": {},
     "output_type": "execute_result"
    }
   ],
   "source": [
    "len(x)"
   ]
  },
  {
   "cell_type": "code",
   "execution_count": 7,
   "metadata": {},
   "outputs": [],
   "source": [
    "db_cursor.execute(\"delete from competition\")"
   ]
  },
  {
   "cell_type": "code",
   "execution_count": 8,
   "metadata": {
    "scrolled": true
   },
   "outputs": [],
   "source": [
    "\n",
    "insert_statement = \"INSERT INTO Competition VALUES ({}, {}, {}, {})\"\n",
    "file_path = '../../datas/results/Competitions.csv'\n",
    "with open(file_path, mode='r') as csv_data:\n",
    "    \n",
    "    reader = csv.reader(csv_data, delimiter=',')\n",
    "    csv_data_list = list(reader)\n",
    "    #print(len(csv_data_list))\n",
    "    #print(csv_data_list[1])\n",
    "    \n",
    "    for row in csv_data_list[1:]:\n",
    "        \n",
    "        x = 'INSERT INTO Competition(comp_id,name,type,country_name) VALUES (\"{}\", \"{}\", \"{}\", \"{}\")'.format(row[1],row[2],row[3],row[4])\n",
    "        #print(x)\n",
    "    #    row = tuple(map(lambda x: None if x == \"\" else x, row[0].split(',')))\n",
    "        db_cursor.execute(x)"
   ]
  },
  {
   "cell_type": "code",
   "execution_count": 9,
   "metadata": {},
   "outputs": [],
   "source": [
    "db_cursor.execute(\"SELECT * FROM competition\")\n",
    "x = db_cursor.fetchall()"
   ]
  },
  {
   "cell_type": "code",
   "execution_count": 10,
   "metadata": {},
   "outputs": [
    {
     "data": {
      "text/plain": [
       "'\\ndb_cursor.execute(\"Describe club\")\\nx = db_cursor.fetchall()\\nx\\n'"
      ]
     },
     "execution_count": 10,
     "metadata": {},
     "output_type": "execute_result"
    }
   ],
   "source": [
    "\"\"\"\n",
    "db_cursor.execute(\"Describe club\")\n",
    "x = db_cursor.fetchall()\n",
    "x\n",
    "\"\"\""
   ]
  },
  {
   "cell_type": "code",
   "execution_count": 11,
   "metadata": {},
   "outputs": [
    {
     "data": {
      "text/plain": [
       "'\\ndb_cursor.execute(\"alter table club modify stadium_name varchar(100)\")\\nx = db_cursor.fetchall()\\nx'"
      ]
     },
     "execution_count": 11,
     "metadata": {},
     "output_type": "execute_result"
    }
   ],
   "source": [
    "\"\"\"\n",
    "db_cursor.execute(\"alter table club modify stadium_name varchar(100)\")\n",
    "x = db_cursor.fetchall()\n",
    "x\"\"\""
   ]
  },
  {
   "cell_type": "code",
   "execution_count": 53,
   "metadata": {},
   "outputs": [],
   "source": [
    "db_cursor.execute(\"delete from club\")"
   ]
  },
  {
   "cell_type": "code",
   "execution_count": 54,
   "metadata": {},
   "outputs": [
    {
     "data": {
      "text/plain": [
       "0"
      ]
     },
     "execution_count": 54,
     "metadata": {},
     "output_type": "execute_result"
    }
   ],
   "source": [
    "db_cursor.execute(\"SELECT * FROM club\")\n",
    "x = db_cursor.fetchall()\n",
    "len(x)"
   ]
  },
  {
   "cell_type": "code",
   "execution_count": 61,
   "metadata": {},
   "outputs": [
    {
     "name": "stdout",
     "output_type": "stream",
     "text": [
      "INSERT INTO club VALUES (1032, \"Fc Reading\", 33.66, 26, 25.9, 46.2, 6, \"Select Car Leasing Stadium\", 24161, 8369999.999999999, \"Brian McDermott\");\n",
      "INSERT INTO club VALUES (2323, \"Orduspor\", NULL, 0, NULL, NULL, 0, \"19 Eylül Stadyum\", 11024, -0.0, \"Héctor Cúper\");\n",
      "INSERT INTO club VALUES (1387, \"Acn Siena 1904\", 4.32, 30, 26.2, 20.0, 2, \"Artemio Franchi\", 15373, -6.0, \"Serse Cosmi\");\n",
      "INSERT INTO club VALUES (3592, \"Kryvbas Kryvyi Rig\", 2.95, 24, 24.5, 8.3, 0, \"Shakhty Zhovtneva\", 2500, -270.0, \"Oleg Taran\");\n",
      "INSERT INTO club VALUES (1071, \"Wigan Athletic\", 12.38, 29, 26.5, 48.3, 6, \"DW Stadium\", 25133, -140.0, \"Roberto Martínez\");\n",
      "INSERT INTO club VALUES (2703, \"Spartak Vladikavkaz\", NULL, 1, 20.0, NULL, 0, \"Republican Stadium Spartak\", 32464, -0.0, \"Vladimir Gazzaev\");\n",
      "INSERT INTO club VALUES (142, \"Real Saragossa\", 22.86, 24, 26.6, 20.8, 0, \"La Romareda\", 33068, -0.0, \"Manolo Jiménez\");\n",
      "INSERT INTO club VALUES (566, \"Beerschot Ac\", NULL, 0, NULL, NULL, 0, \"Olympisch Stadion\", 12771, -0.0, \"Adrie Koster\");\n",
      "INSERT INTO club VALUES (1436, \"Sc Beira Mar\", 135.0, 22, 27.5, 40.9, 0, \"Estádio Mário Duarte\", 12000, -0.0, \"Ulisses Morais\");\n",
      "INSERT INTO club VALUES (4750, \"Sc Olhanense\", 68.0, 22, 24.1, 40.9, 0, \"Estádio José Arcanjo\", 10080, -0.0, \"Abel Xavier\");\n",
      "INSERT INTO club VALUES (23, \"Eintracht Braunschweig\", 6.48, 27, 24.9, 11.1, 0, \"EINTRACHT-Stadion\", 23325, -0.0, \"Torsten Lieberknecht\");\n",
      "INSERT INTO club VALUES (2227, \"Sk Tavriya Simferopol\", NULL, 0, NULL, NULL, 0, \"RS Lokomotiv\", 19978, -0.0, \"Giannis Christopoulos\");\n",
      "INSERT INTO club VALUES (12438, \"Volga Nizhniy Novgorod\", NULL, 0, NULL, NULL, 0, \"Zentralstadion Lokomotiv\", 17856, -0.0, \"Yuriy Kalitvintsev\");\n",
      "INSERT INTO club VALUES (2292, \"Elazigspor\", 563.0, 40, 23.2, NULL, 0, \"Elazığ Doğukent Stadı\", 2500, 44.0, \"Trond Sollied\");\n",
      "INSERT INTO club VALUES (1210, \"As Livorno\", 225.0, 25, 27.0, NULL, 0, \"Armando Picchi\", 19238, -0.0, \"Davide Nicola\");\n",
      "INSERT INTO club VALUES (1627, \"Catania Calcio\", 6.56, 25, 26.8, 20.0, 0, \"Cibali - Angelo Massimino\", 20016, -0.0, \"Rolando Maran\");\n",
      "INSERT INTO club VALUES (16245, \"Fk Sevastopol\", NULL, 0, NULL, NULL, 0, \"SK Sevastopol\", 5826, -0.0, \"Oleg Kononov\");\n",
      "INSERT INTO club VALUES (1423, \"Fc Valenciennes\", 18.41, 29, 25.6, 37.9, 2, \"Stade du Hainaut\", 25000, 1350000.0, \"Daniel Sanchez\");\n",
      "INSERT INTO club VALUES (750, \"Fc Sochaux Montbeliard\", 17.51, 24, 24.8, 33.3, 3, \"Stade Auguste-Bonal\", 20005, 720.0, \"Eric Hély\");\n",
      "INSERT INTO club VALUES (1147, \"Ac Ajaccio\", 16.52, 25, 26.8, 40.0, 7, \"Stade François-Coty\", 10446, -0.0, \"Fabrizio Ravanelli\");\n",
      "INSERT INTO club VALUES (1411, \"Raec Mons\", NULL, 0, NULL, NULL, 0, \"Charles Tondreau Stadion\", 12662, -0.0, \"Enzo Scifo\");\n",
      "INSERT INTO club VALUES (3302, \"Ud Almeria\", 51.66, 25, 25.7, 40.0, 2, \"Estadio de los Juegos Mediterráneos\", 15274, -4820000.0, \"Francisco Rodríguez\");\n",
      "INSERT INTO club VALUES (5572, \"Niki Volou\", 3.4, 24, 28.0, 25.0, 1, \"Panthessaliko Stadio\", 22700, -0.0, \"Wiljan Vloet\");\n",
      "INSERT INTO club VALUES (20698, \"Balikesirspor\", 1.58, 30, 24.6, 30.0, 1, \"Balıkesir Atatürk\", 15800, -0.0, \"Ismail Ertekin\");\n",
      "INSERT INTO club VALUES (6894, \"Kayseri Erciyesspor\", NULL, 0, NULL, NULL, 0, \"Kayseri Atatürk Spor Kompleksi Yan Açık Saha\", 2000, -0.0, \"Hikmet Karaman\");\n",
      "INSERT INTO club VALUES (1429, \"Cesena Fc\", 6.82, 29, 24.9, 13.8, 1, \"Orogel Stadium - Dino Manuzzi\", 23860, 90.0, \"Pierpaolo Bisoli\");\n",
      "INSERT INTO club VALUES (5220, \"Gs Ergotelis\", 3.96, 30, 22.2, 33.3, 1, \"Pankritio Stadio\", 25780, -0.0, \"Juan Ferrando\");\n",
      "INSERT INTO club VALUES (2783, \"Metalurg Donetsk\", NULL, 0, NULL, NULL, 0, \"Metalurg\", 5090, -0.0, \"Volodymyr Pyatenko\");\n",
      "INSERT INTO club VALUES (204, \"Lierse Sk\", NULL, 0, NULL, NULL, 0, \"Herman Vanderpoortenstadion\", 14538, -0.0, \"Stanley Menzo\");\n",
      "INSERT INTO club VALUES (993, \"Fc Cordoba\", 2.99, 24, 26.6, 8.3, 0, \"Nuevo Arcángel\", 21822, 270.0, \"Albert Ferrer\");\n",
      "INSERT INTO club VALUES (20100, \"Fc Vestsjaelland\", NULL, 0, NULL, NULL, 0, \"Harboe Arena\", 10000, -0.0, \"Michael Hansen\");\n",
      "INSERT INTO club VALUES (1039, \"Queens Park Rangers\", 35.06, 28, 26.5, 60.7, 9, \"Kiyan Prince Foundation Stadium\", 18360, -1670000.0, \"Harry Redknapp\");\n",
      "INSERT INTO club VALUES (3327, \"Fc Penafiel\", 4.46, 27, 27.5, 22.2, 0, \"Estádio Municipal 25 de Abril\", 5230, -0.0, \"Ricardo Chéu\");\n",
      "INSERT INTO club VALUES (14171, \"Thonon Evian Grand Geneve Fc\", 1.6, 20, 26.4, 20.0, 1, \"Stade Joseph-Moynat\", 0, -0.0, \"Pascal Dupraz\");\n",
      "INSERT INTO club VALUES (1455, \"Fc Dordrecht\", 4.1, 26, 22.6, 42.3, 0, \"Riwal Hoogwerkers Stadion\", 4235, -0.0, \"Ernie Brandts\");\n",
      "INSERT INTO club VALUES (1186, \"Torpedo Moskau\", 8.64, 26, 26.3, 15.4, 2, \"Sportivniy Gorodok, Luzhniki\", 1872, -90.0, \"Nikolay Savichev\");\n",
      "INSERT INTO club VALUES (976, \"Cf Uniao Madeira\", NULL, 6, 22.3, NULL, 0, \"Centro Desportivo da Madeira\", 2500, -0.0, \"Luís Norton de Matos\");\n",
      "INSERT INTO club VALUES (11126, \"Mordovia Saransk\", NULL, 0, NULL, NULL, 0, \"Mordovia Arena\", 44442, -0.0, \"Andrey Gordeev\");\n",
      "INSERT INTO club VALUES (3558, \"Gfc Ajaccio\", 585.0, 22, 23.9, 9.1, 0, \"Stade Ange-Casanova\", 4050, -0.0, \"Thierry Laurey\");\n",
      "INSERT INTO club VALUES (6994, \"Metalurg Zaporizhya Bis 2016 \", NULL, 0, NULL, NULL, 0, \"Slavutych Arena\", 11883, -0.0, \"Anatoliy Chantsev\");\n",
      "INSERT INTO club VALUES (6996, \"Goverla Uzhgorod\", NULL, 0, NULL, NULL, 0, \"Avangard\", 10640, -0.0, \"Vyacheslav Groznyi\");\n",
      "INSERT INTO club VALUES (28956, \"Ael Kalloni\", NULL, 0, NULL, NULL, 0, \"Stadio Mytilinis\", 4000, -0.0, \"Thalis Theodoridis\");\n",
      "INSERT INTO club VALUES (4102, \"Carpi Fc 1909\", 1.24, 31, 22.8, 19.4, 0, \"Sandro Cabassi\", 5510, 540.0, \"Fabrizio Castori\");\n",
      "INSERT INTO club VALUES (7185, \"Panthrakikos Komotini\", NULL, 5, 26.2, 60.0, 1, \"Stadio Komotinis OPAP\", 5601, -0.0, \"José Manuel Roca\");\n",
      "INSERT INTO club VALUES (3216, \"Mersin Idmanyurdu\", NULL, 0, NULL, NULL, 0, \"Mersin Stadyumu\", 25000, -0.0, \"Mesut Bakkal\");\n",
      "INSERT INTO club VALUES (825, \"Eskisehirspor\", 1.1, 21, 21.2, 9.5, 0, \"Eskişehir Yeni Stadyum\", 34930, 15.0, \"Ilhan Mayakan\");\n",
      "INSERT INTO club VALUES (6414, \"Metalist Kharkiv\", NULL, 0, NULL, NULL, 0, \"OSK Metalist\", 38685, -0.0, \"Oleksandr Sevidov\");\n",
      "INSERT INTO club VALUES (2439, \"Kuban Krasnodar\", NULL, 0, NULL, NULL, 0, \"Kuban Stadium\", 31654, -0.0, \"Dmitri Khokhlov\");\n",
      "INSERT INTO club VALUES (2990, \"Academica Coimbra\", 4.91, 30, 26.2, 40.0, 2, \"Estádio Cidade de Coimbra\", 29744, -0.0, \"José Viterbo\");\n",
      "INSERT INTO club VALUES (3691, \"Tom Tomsk\", 4.96, 23, 25.1, 8.7, 0, \"Trud\", 10028, 156.0, \"Valeri Petrakov\");\n",
      "INSERT INTO club VALUES (2451, \"Inverness Caledonian Thistle Fc\", 4.3, 24, 24.1, 29.2, 0, \"Tulloch Caledonian Stadium\", 7750, 209.0, \"Richie Foran\");\n",
      "INSERT INTO club VALUES (105, \"Sv Darmstadt 98\", 15.37, 27, 24.8, 25.9, 2, \"Merck-Stadion am Böllenfalltor\", 17400, 270.0, \"Norbert Meier\");\n",
      "INSERT INTO club VALUES (4482, \"Volyn Lutsk\", 1.73, 26, 21.9, 3.8, 0, \"Stadion Avangard\", 12080, -0.0, \"Vitaliy Kvartsyanyi\");\n",
      "INSERT INTO club VALUES (339, \"Dnipro Dnipropetrovsk\", NULL, 0, NULL, NULL, 0, \"Meteor\", 24381, -0.0, \"Dmytro Mykhaylenko\");\n",
      "INSERT INTO club VALUES (4795, \"Fc Ingolstadt 04\", 11.68, 32, 25.4, 37.5, 2, \"Audi Sportpark\", 15800, -180.0, \"Markus Kauczinski\");\n",
      "INSERT INTO club VALUES (6, \"Adanaspor\", 7.04, 27, 24.0, 40.7, 1, \"Yeni Adana Stadyumu\", 33000, 270.0, \"Engin Ipekoglu\");\n",
      "INSERT INTO club VALUES (2079, \"Veria Nps\", 4.88, 29, 25.9, 17.2, 0, \"Dimotiko Stadio Verias\", 6350, -0.0, \"Dimitrios Eleftheropoulos\");\n",
      "INSERT INTO club VALUES (524, \"Gaziantepspor\", NULL, 0, NULL, NULL, 0, \"Gaziantep Stadyumu\", 33502, -0.0, \"Ismail Kartal\");\n",
      "INSERT INTO club VALUES (2921, \"Delfino Pescara 1936\", 5.38, 28, 24.5, 21.4, 1, \"Adriatico\", 20476, 2480000.0, \"Massimo Oddo\");\n",
      "INSERT INTO club VALUES (47, \"Iraklis Thessaloniki\", 3.4, 31, 22.8, 25.8, 0, \"Kaftanzoglio Stadio\", 27770, -0.0, \"Nikolaos Papadopoulos\");\n",
      "INSERT INTO club VALUES (458, \"Palermo Fc\", 4.39, 25, 26.2, 16.0, 0, \"Comunale Renzo Barbera La Favorita\", 36365, 1890000.0, \"Davide Ballardini\");\n",
      "INSERT INTO club VALUES (289, \"Afc Sunderland\", 16.79, 27, 24.9, 48.1, 3, \"Stadium of Light\", 48707, -216.0, \"Sam Allardyce\");\n",
      "INSERT INTO club VALUES (641, \"Fc Middlesbrough\", 48.96, 26, 26.3, 34.6, 5, \"Riverside Stadium\", 33746, -11300000.0, \"Aitor Karanka\");\n",
      "INSERT INTO club VALUES (3008, \"Hull City\", 19.08, 27, 24.6, 22.2, 3, \"KCOM Stadium\", 24983, -720.0, \"Steve Bruce\");\n",
      "INSERT INTO club VALUES (968, \"Kvc Westerlo\", 9.68, 29, 24.5, 55.2, 2, \"Het Kuipje\", 8035, -450.0, \"Bob Peeters\");\n",
      "INSERT INTO club VALUES (1159, \"As Nancy Lorraine\", 16.88, 30, 24.2, 53.3, 4, \"Stade Marcel-Picot\", 20087, -0.0, \"Pablo Correa\");\n",
      "INSERT INTO club VALUES (2448, \"Sporting Gijon\", 25.52, 26, 25.6, 23.1, 4, \"El Molinón - Enrique Castro Quini\", 30000, -225.0, \"Abelardo\");\n",
      "INSERT INTO club VALUES (595, \"Sc Bastia\", 8.96, 28, 27.7, 25.0, 2, \"Stade Armand-Cesari\", 16480, -0.0, \"François Ciccolini\");\n",
      "INSERT INTO club VALUES (41, \"Hamburger Sv\", 32.9, 26, 24.0, 34.6, 1, \"Volksparkstadion\", 57000, 4280000.0, \"Markus Gisdol\");\n",
      "INSERT INTO club VALUES (3690, \"Ska Khabarovsk\", 7.09, 27, 25.2, 14.8, 2, \"Lenin Stadion\", 15200, -28.0, \"Aleksey Poddubskiy\");\n",
      "INSERT INTO club VALUES (192, \"Roda Jc Kerkrade\", 5.83, 27, 23.0, 51.9, 1, \"Parkstad Limburg Stadion\", 19979, 158.0, \"Robert Molenaar\");\n",
      "INSERT INTO club VALUES (1084, \"Fc Malaga\", 20.97, 28, 25.0, 21.4, 0, \"La Rosaleda\", 30044, -0.0, \"Míchel\");\n",
      "INSERT INTO club VALUES (8838, \"Zirka Kropyvnytskyi\", NULL, 1, 23.0, NULL, 0, \"Zirka\", 14628, -0.0, \"Roman Monarev\");\n",
      "INSERT INTO club VALUES (22110, \"Fc Helsingor\", 4.95, 24, 25.6, 25.0, 3, \"Helsingør Ny Stadion\", 4000, -0.0, \"Christian Lönstrup\");\n",
      "INSERT INTO club VALUES (16247, \"Pfk Stal Kamyanske\", NULL, 0, NULL, NULL, 0, \"Obolon\", 5100, -0.0, \"Eghishe Melikyan\");\n",
      "INSERT INTO club VALUES (2944, \"Ankaraspor\", 2.75, 30, 25.5, 6.7, 0, \"Osmanlı Stadı\", 19626, 172.0, \"Bülent Uygun\");\n",
      "INSERT INTO club VALUES (1506, \"Kardemir Karabukspor\", NULL, 22, 20.5, NULL, 0, \"Dr. Necmettin Şeyhoğlu\", 12400, -0.0, \"Erkan Sözeri\");\n",
      "INSERT INTO club VALUES (21957, \"Ao Platanias\", NULL, 0, NULL, NULL, 0, \"Dimotiko Gipedo Perivolia\", 3700, -0.0, \"Georgios Paraschos\");\n",
      "INSERT INTO club VALUES (5219, \"Aok Kerkyra\", NULL, 7, 22.1, 28.6, 0, \"Ethniko Stadio Kerkyras\", 3000, -0.0, \"Dimitrios Eleftheropoulos\");\n",
      "INSERT INTO club VALUES (2760, \"Partick Thistle Fc\", 4.3, 21, 26.5, 9.5, 0, \"The Energy Check Stadium at Firhill\", 10102, -0.0, \"Alan Archibald\");\n",
      "INSERT INTO club VALUES (897, \"Deportivo La Coruna\", 6.95, 24, 26.2, 12.5, 0, \"Riazor\", 32912, 1530000.0, \"Pepe Mel\");\n",
      "INSERT INTO club VALUES (472, \"Ud Las Palmas\", 20.7, 27, 25.9, 22.2, 1, \"Estadio de Gran Canaria\", 32400, 1300000.0, \"Manolo Márquez\");\n",
      "INSERT INTO club VALUES (512, \"Stoke City\", 53.55, 29, 26.1, 48.3, 7, \"bet365 Stadium\", 30089, 8420000.0, \"Mark Hughes\");\n",
      "INSERT INTO club VALUES (2288, \"Swansea City\", 35.06, 23, 24.8, 91.3, 3, \"Liberty Stadium\", 21088, -761.0, \"Paul Clement\");\n",
      "INSERT INTO club VALUES (40426, \"Fk Tosno\", NULL, 0, NULL, NULL, 0, \"Petrovsky\", 20985, -0.0, \"Dmitri Parfenov\");\n",
      "INSERT INTO club VALUES (4128, \"Amkar Perm\", 3.67, 27, 24.1, NULL, 0, \"Zvezda\", 17000, -0.0, \"Gadzhi Gadzhiev\");\n",
      "INSERT INTO club VALUES (498, \"Ksc Lokeren\", NULL, 0, NULL, NULL, 0, \"Daknamstadion\", 12000, -0.0, \"Peter Maes\");\n",
      "INSERT INTO club VALUES (2700, \"Anzhi Makhachkala\", 2.52, 27, 20.7, NULL, 0, \"RDYuSSh MinObrNauki RD Politekh Makhachkala\", 1600, 22.0, \"Magomed Adiev\");\n",
      "INSERT INTO club VALUES (642, \"De Graafschap Doetinchem\", 6.23, 27, 24.1, 7.4, 1, \"De Vijverberg\", 12600, -0.0, \"Henk de Jong\");\n",
      "INSERT INTO club VALUES (798, \"Sbv Excelsior Rotterdam\", 6.37, 25, 21.7, 24.0, 0, \"Van Donge & De Roo Stadion - Woudestein\", 4400, 720.0, \"Adrie Poldervaart\");\n",
      "INSERT INTO club VALUES (19657, \"Vendsyssel Ff\", 4.05, 25, 25.1, 36.0, 0, \"Nord Energi Arena\", 10000, -90.0, \"Jens Berthel Askou\");\n",
      "INSERT INTO club VALUES (862, \"Chievo Verona\", NULL, 0, NULL, NULL, 0, \"Marcantonio Bentegodi\", 31045, 90.0, \"Lorenzo D'Anna\");\n",
      "INSERT INTO club VALUES (2672, \"Apo Levadiakos\", 5.69, 26, 26.4, 46.2, 1, \"Stadio Livadias\", 5915, -0.0, \"Apostolos Mantzios\");\n",
      "INSERT INTO club VALUES (8970, \"Frosinone Calcio\", 16.94, 30, 24.8, 36.7, 1, \"Benito Stirpe\", 16227, 6490000.0, \"Moreno Longo\");\n",
      "INSERT INTO club VALUES (19771, \"Akhisarspor\", 1.35, 30, 22.0, 6.7, 0, \"Spor Toto Akhisar Stadyumu\", 12139, 108.0, \"Safet Susic\");\n",
      "INSERT INTO club VALUES (20, \"Bursaspor\", 7.99, 31, 23.8, 29.0, 2, \"Bitci Timsah Park\", 43331, 2490000.0, \"Samet Aybaba\");\n",
      "INSERT INTO club VALUES (9007, \"Arsenal Kiew\", NULL, 0, NULL, NULL, 0, \"NSK Olimpisky\", 70050, -0.0, \"Fabrizio Ravanelli\");\n",
      "INSERT INTO club VALUES (132, \"Nac Breda\", 6.44, 29, 23.6, 31.0, 5, \"Rat Verlegh Stadion\", 19000, 819.0, \"Jo Jansen\");\n",
      "INSERT INTO club VALUES (855, \"Ea Guingamp\", 15.71, 26, 24.4, 26.9, 4, \"Stade du Roudourou\", 18120, 1180000.0, \"Antoine Kombouaré\");\n",
      "INSERT INTO club VALUES (603, \"Cardiff City\", 28.44, 24, 25.6, 83.3, 5, \"Cardiff City Stadium\", 33280, 4680000.0, \"Neil Warnock\");\n",
      "INSERT INTO club VALUES (1162, \"Sm Caen\", 18.14, 25, 26.1, 36.0, 2, \"Stade Michel-d'Ornano\", 20500, 5850000.0, \"Fabien Mercadal\");\n",
      "INSERT INTO club VALUES (1110, \"Huddersfield Town\", 33.89, 27, 26.1, 37.0, 2, \"John Smith's Stadium\", 24500, 2069999.9999999998, \"David Wagner\");\n",
      "INSERT INTO club VALUES (3714, \"Enisey Krasnoyarsk\", 7.25, 32, 26.1, 6.3, 1, \"Zentralstadion Krasnoyarsk\", 15000, 900.0, \"Dmitri Alenichev\");\n",
      "INSERT INTO club VALUES (12321, \"Fc Girona\", 25.11, 24, 25.0, 25.0, 0, \"Municipal de Montilivi\", 11286, 2750000.0, \"Eusebio\");\n",
      "INSERT INTO club VALUES (42, \"Hannover 96\", 18.79, 24, 26.9, 33.3, 1, \"HDI-Arena\", 49000, 2840000.0, \"André Breitenreiter\");\n",
      "INSERT INTO club VALUES (4, \"1 Fc Nurnberg\", 22.93, 28, 25.3, 17.9, 1, \"Max-Morlock-Stadion\", 50000, 1580000.0, \"Michael Köllner\");\n",
      "INSERT INTO club VALUES (3349, \"Cd Feirense\", 4.79, 29, 24.6, 58.6, 3, \"Estádio Marcolino de Castro\", 5401, 1080000.0, \"Nuno Manta Santos\");\n",
      "INSERT INTO club VALUES (3325, \"Gd Chaves\", 4.86, 30, 26.7, 53.3, 4, \"Estádio Municipal Eng.º Manuel Branco Teixeira\", 9000, -0.0, \"Daniel Ramos\");\n",
      "INSERT INTO club VALUES (14589, \"Fk Orenburg\", 10.24, 28, 25.7, 28.6, 3, \"Gazovik\", 7500, 176.0, \"Vladimir Fedotov\");\n",
      "INSERT INTO club VALUES (169, \"Panionios Athen\", 1.62, 28, 23.0, 25.0, 0, \"Stadio Neas Smyrnis\", 11700, -0.0, \"Apostolos Mantzios\");\n",
      "INSERT INTO club VALUES (19, \"Brescia Calcio\", 32.4, 29, 25.6, 48.3, 3, \"Mario Rigamonti\", 19550, 11750000.0, \"Eugenio Corini\");\n",
      "INSERT INTO club VALUES (1005, \"Us Lecce\", 29.61, 27, 25.8, 55.6, 2, \"Ettore Giardiniero\", 31559, 450.0, \"Fabio Liverani\");\n",
      "INSERT INTO club VALUES (2722, \"Spal\", 23.78, 32, 25.9, 28.1, 2, \"Paolo Mazza\", 16134, 9500000.0, \"Leonardo Semplici\");\n",
      "INSERT INTO club VALUES (128, \"Ao Xanthi\", 5.36, 30, 26.3, 26.7, 1, \"Xanthi Arena\", 7361, -0.0, \"Kiko Ramírez\");\n",
      "INSERT INTO club VALUES (5818, \"Hobro Ik\", 3.6, 29, 24.2, 13.8, 1, \"DS Arena\", 7500, 241.0, \"Peter Sörensen\");\n",
      "INSERT INTO club VALUES (3426, \"Esbjerg Fb\", 6.26, 35, 22.0, 42.9, 5, \"Blue Water Arena\", 16942, -0.0, \"John Lammers\");\n",
      "INSERT INTO club VALUES (2477, \"Karpaty Lviv\", NULL, 0, NULL, NULL, 0, \"Stadion Ukraina\", 28051, -0.0, \"Oleksandr Chyzhevskyi\");\n",
      "INSERT INTO club VALUES (989, \"Afc Bournemouth\", 152.64, 30, 24.9, 43.3, 9, \"Vitality Stadium\", 11329, 15210000.0, \"Eddie Howe\");\n",
      "INSERT INTO club VALUES (1244, \"Cd Leganes\", 32.85, 28, 27.5, 28.6, 3, \"Municipal de Butarque\", 12454, 2250000.0, \"Mauricio Pellegrino\");\n",
      "INSERT INTO club VALUES (415, \"Fc Toulouse\", 24.48, 26, 23.3, 53.8, 4, \"Stadium Municipal\", 33150, 10000000.0, \"Alain Casanova\");\n",
      "INSERT INTO club VALUES (38, \"Fortuna Dusseldorf\", 22.95, 28, 26.3, 28.6, 3, \"MERKUR SPIEL-ARENA\", 54600, -1640000.0, \"Friedhelm Funkel\");\n",
      "INSERT INTO club VALUES (1416, \"Amiens Sc\", 20.97, 27, 24.7, 48.1, 6, \"Stade Crédit Agricole la Licorne\", 12999, 5060000.0, \"Luka Elsner\");\n",
      "INSERT INTO club VALUES (127, \"Sc Paderborn 07\", 15.48, 30, 24.9, 26.7, 3, \"Benteler-Arena\", 15000, 3870000.0, \"Steffen Baumgart\");\n",
      "INSERT INTO club VALUES (1085, \"Vitoria Setubal Fc\", 2.59, 27, 25.9, 29.6, 3, \"Estádio do Bonfim\", 18642, -0.0, \"Sandro Mendes\");\n",
      "INSERT INTO club VALUES (3336, \"Desportivo Aves\", NULL, 0, NULL, NULL, 0, \"Estádio CD das Aves\", 5441, -0.0, \"Augusto Inácio\");\n",
      "INSERT INTO club VALUES (982, \"Cd Nacional\", 7.34, 29, 26.7, 48.3, 3, \"Estádio da Madeira\", 5586, 720.0, \"Luis Antonio Zaluar\");\n",
      "INSERT INTO club VALUES (29228, \"Royal Excel Mouscron\", 4.21, 28, 25.9, 53.6, 3, \"Le Canonnier\", 10830, -0.0, \"Fernando Da Cruz\");\n",
      "INSERT INTO club VALUES (1160, \"Nimes Olympique\", 27.95, 25, 24.0, 48.0, 7, \"Stade des Costières\", 18364, 5220000.0, \"Jérôme Arpinon\");\n",
      "INSERT INTO club VALUES (1426, \"Vvv Venlo\", 6.28, 27, 22.1, 25.9, 0, \"Covebo Stadion - De Koel\", 8000, 2250000.0, \"Hans de Koning\");\n",
      "INSERT INTO club VALUES (23611, \"Olimpik Donetsk\", NULL, 0, NULL, NULL, 0, \"NTK im. B. M. Bannikova\", 1678, -0.0, \"Igor Klymovskyi\");\n",
      "INSERT INTO club VALUES (369, \"Lyngby Bk\", 6.75, 29, 24.1, 13.8, 1, \"Lyngby Stadion\", 10000, 1710000.0, \"Michelle Lange\");\n",
      "INSERT INTO club VALUES (2414, \"Ac Horsens\", 5.9, 24, 25.2, 29.2, 2, \"Casa Arena Horsens\", 10400, -0.0, \"Bo Henriksen\");\n",
      "INSERT INTO club VALUES (2553, \"Kilmarnock Fc\", 7.52, 30, 26.3, 43.3, 1, \"BBSP Stadium, Rugby Park\", 18128, -0.0, \"Alex Dyer\");\n",
      "INSERT INTO club VALUES (2999, \"Hamilton Academical Fc\", 5.94, 28, 22.8, 25.0, 1, \"Fountain of Youth Stadium\", 6018, -0.0, \"Brian Rice\");\n",
      "INSERT INTO club VALUES (833, \"Denizlispor\", 4.43, 32, 26.1, 25.0, 1, \"Denizli Atatürk Stadı\", 18745, -0.0, \"Robert Prosinecki\");\n",
      "INSERT INTO club VALUES (39722, \"Buyuksehir Belediye Erzurumspor\", 6.1, 28, 27.6, 35.7, 3, \"Erzurum Kazım Karabekir\", 23700, -0.0, \"Mehmet Özdilek\");\n",
      "INSERT INTO club VALUES (4171, \"Benevento Calcio\", 27.05, 28, 26.1, 28.6, 3, \"Ciro Vigorito\", 16867, 1530000.0, \"Filippo Inzaghi\");\n",
      "INSERT INTO club VALUES (4083, \"Fc Crotone\", 18.83, 29, 24.1, 44.8, 5, \"Ezio Scida\", 16640, 6300000.0, \"Giovanni Stroppa\");\n",
      "INSERT INTO club VALUES (130, \"Parma Calcio 1913\", 51.84, 35, 25.3, 68.6, 3, \"Ennio Tardini\", 22352, -19060000.0, \"Roberto D'Aversa\");\n",
      "INSERT INTO club VALUES (820, \"Genclerbirligi Ankara\", 7.13, 28, 24.0, 28.6, 0, \"Eryaman Stadyumu\", 20560, -0.0, \"Mert Nobre\");\n",
      "INSERT INTO club VALUES (868, \"Mke Ankaragucu\", 6.71, 29, 26.4, 31.0, 1, \"Eryaman Stadyumu\", 20560, 675.0, \"Fuat Capa\");\n",
      "INSERT INTO club VALUES (4603, \"Ae Larisa\", 5.24, 35, 23.8, 20.0, 1, \"Stadio Alkazar\", 13108, 1530000.0, \"Michalis Grigoriou\");\n",
      "INSERT INTO club VALUES (1283, \"Fc Emmen\", 7.31, 32, 23.7, 28.1, 2, \"De Oude Meerdijk\", 8309, 1310000.0, \"Dick Lukkien\");\n",
      "INSERT INTO club VALUES (1268, \"Ado Den Haag\", 5.38, 28, 23.3, 17.9, 0, \"Cars Jeans Stadion\", 15000, 1040000.0, \"Aleksandar Rankovic\");\n",
      "INSERT INTO club VALUES (984, \"West Bromwich Albion\", 77.9, 26, 26.3, 34.6, 6, \"The Hawthorns\", 26850, 11200000.0, \"Slaven Bilic\");\n",
      "INSERT INTO club VALUES (931, \"Fc Fulham\", 132.3, 26, 26.7, 73.1, 11, \"Craven Cottage\", 19000, -14850000.0, \"Scott Parker\");\n",
      "INSERT INTO club VALUES (1533, \"Sd Eibar\", 26.82, 25, 28.9, 20.0, 0, \"Ipurua\", 8164, -3690000.0, \"José Luis Mendilibar\");\n",
      "INSERT INTO club VALUES (366, \"Real Valladolid\", 42.12, 26, 27.5, 19.2, 4, \"Estadio Nuevo José Zorrilla\", 27618, 5850000.0, \"Sergio\");\n",
      "INSERT INTO club VALUES (5358, \"Sd Huesca\", 26.64, 24, 27.6, 25.0, 3, \"El Alcoraz\", 9128, 4139999.9999999995, \"Míchel\");\n",
      "INSERT INTO club VALUES (350, \"Sheffield United\", 84.69, 25, 27.0, 44.0, 7, \"Bramall Lane\", 32702, 25200000.0, \"Chris Wilder\");\n",
      "INSERT INTO club VALUES (2969, \"Dijon Fco\", 16.61, 24, 27.0, 45.8, 4, \"Stade Gaston-Gérard\", 16098, 3380000.0, \"Stéphane Jobard\");\n",
      "INSERT INTO club VALUES (28643, \"Waasland Beveren\", 8.21, 27, 25.5, 51.9, 2, \"Freethielstadion\", 13290, 1260000.0, \"Nicky Hayen\");\n",
      "INSERT INTO club VALUES (3609, \"Rotor Volgograd\", 7.72, 24, 25.0, 12.5, 1, \"Volgograd Arena\", 45568, -54.0, \"Aleksandr Khatskevich\");\n",
      "INSERT INTO club VALUES (41201, \"Pfk Tambov\", NULL, 0, NULL, NULL, 0, \"Mordovia Arena\", 44149, -0.0, \"Sergey Pervushin\");\n",
      "INSERT INTO club VALUES (86, \"Sv Werder Bremen\", 35.42, 27, 24.1, 37.0, 3, \"Wohninvest-Weserstadion\", 42100, 26640000.0, \"Florian Kohfeldt\");\n",
      "INSERT INTO club VALUES (33, \"Fc Schalke 04\", 29.48, 28, 26.1, 57.1, 7, \"Veltins-Arena\", 62271, 35240000.0, \"David Wagner\");\n",
      "INSERT INTO club VALUES (4294, \"Sc Farense\", 6.77, 30, 25.2, 63.3, 3, \"Estádio São Luís\", 15000, 315.0, \"Sérgio Vieira\");\n",
      "INSERT INTO club VALUES (2425, \"Rio Ave Fc\", 9.41, 26, 26.6, 53.8, 0, \"Estádio dos Arcos\", 9065, 1980000.0, \"Carlos Carvalhal\");\n",
      "INSERT INTO club VALUES (2698, \"Rubin Kazan\", 29.5, 22, 24.8, 18.2, 4, \"Ak Bars Arena\", 45379, 2620000.0, \"Leonid Slutski\");\n",
      "INSERT INTO club VALUES (49702, \"Fk Nizhny Novgorod\", 13.28, 23, 26.0, 26.1, 2, \"Nizhny Novgorod Stadium\", 43319, -717.0, \"Aleksandr Kerzhakov\");\n",
      "INSERT INTO club VALUES (1435, \"Go Ahead Eagles Deventer\", 8.87, 29, 24.3, 37.9, 1, \"De Adelaarshorst\", 9909, 1710000.0, \"Kees van Wonderen\");\n",
      "INSERT INTO club VALUES (133, \"Sc Cambuur Leeuwarden\", 9.56, 23, 25.1, 39.1, 8, \"Cambuurstadion\", 10250, -0.0, \"Henk de Jong\");\n",
      "INSERT INTO club VALUES (367, \"Rayo Vallecano\", 49.77, 23, 28.1, 52.2, 4, \"Campo de Fútbol de Vallecas\", 15105, -1890000.0, \"Andoni Iraola\");\n",
      "INSERT INTO club VALUES (11127, \"Ural Ekaterinburg\", 14.29, 22, 26.4, 22.7, 0, \"Ekaterinburg Arena\", 27000, 4850000.0, \"Igor Shalimov\");\n",
      "INSERT INTO club VALUES (932, \"Lokomotiv Moskau\", 71.37, 27, 24.0, 29.6, 6, \"RZD Arena\", 27084, -28070000.0, \"Zaur Khapov\");\n",
      "INSERT INTO club VALUES (2715, \"Rfc Seraing\", 12.98, 31, 23.9, 58.1, 6, \"Stade du Paray\", 6744, -0.0, \"Manuel Nogueira\");\n",
      "INSERT INTO club VALUES (16239, \"Desna Chernigiv\", 2.81, 15, 24.9, 13.3, 0, \"Stadion im. Yuriya Gagarina\", 12060, 450.0, \"Oleksandr Ryabokon\");\n",
      "INSERT INTO club VALUES (3524, \"Clermont Foot 63\", 47.21, 27, 26.3, 55.6, 10, \"Stade Gabriel-Montpied\", 13000, -0.0, \"Pascal Gastien\");\n",
      "INSERT INTO club VALUES (2759, \"Ross County Fc\", 6.08, 23, 24.7, 43.5, 2, \"Global Energy Stadium\", 6541, -0.0, \"Malky Mackay\");\n",
      "INSERT INTO club VALUES (441, \"Apollon Smyrnis\", 7.2, 32, 28.9, 62.5, 1, \"Gipedo Rizoupolis Georgios Kamaras\", 14200, -0.0, \"Babis Tennes\");\n",
      "INSERT INTO club VALUES (553, \"Ionikos Nikeas\", 6.93, 27, 28.4, 48.1, 3, \"Dimotiko Gipedo Neapolis\", 5500, -0.0, \"Dimitrios Spanos\");\n",
      "INSERT INTO club VALUES (3522, \"Spezia Calcio\", 64.17, 31, 23.6, 71.0, 13, \"Alberto Picco\", 11512, -17650000.0, \"Thiago Motta\");\n",
      "INSERT INTO club VALUES (6676, \"Asteras Tripolis\", 7.47, 30, 25.2, 60.0, 1, \"Gipedo Theodoros Kolokotronis\", 7423, 990.0, \"Milan Rastavac\");\n",
      "INSERT INTO club VALUES (1132, \"Fc Burnley\", 128.72, 26, 29.5, 46.2, 9, \"Turf Moor\", 21994, -4860000.0, \"Mike Jackson\");\n",
      "INSERT INTO club VALUES (16704, \"Fk Krasnodar\", 61.31, 28, 24.6, 28.6, 4, \"Stadion Krasnodar\", 35179, -33250000.0, \"Aleksandr Storozhuk\");\n",
      "INSERT INTO club VALUES (2375, \"Altay Sk\", 12.44, 25, 28.5, 44.0, 5, \"Alsancak Mustafa Denizli Stadı\", 15000, -2350000.0, \"Sinan Kaloglu\");\n",
      "INSERT INTO club VALUES (380, \"Us Salernitana 1919\", 49.37, 35, 27.3, 60.0, 7, \"Arechi\", 31300, -12920000.0, \"Davide Nicola\");\n",
      "INSERT INTO club VALUES (11688, \"Giresunspor\", 22.59, 23, 24.4, 34.8, 2, \"Çotanak Spor Kompleksi\", 21500, -90.0, \"Hakan Keles\");\n",
      "INSERT INTO club VALUES (19789, \"Yeni Malatyaspor\", 9.74, 23, 24.1, 43.5, 3, \"Yeni Malatya Stadyumu\", 25745, -2020000.0, \"Cihat Arslan\");\n",
      "INSERT INTO club VALUES (126, \"Caykur Rizespor\", 19.6, 24, 27.2, 45.8, 5, \"Çaykur Didi\", 15332, -0.0, \"Bülent Korkmaz\");\n",
      "INSERT INTO club VALUES (7775, \"Hatayspor\", 29.43, 25, 26.2, 48.0, 6, \"Yeni Hatay Stadyumu\", 25000, 2900000.0, \"Hasan Anil Eken\");\n",
      "INSERT INTO club VALUES (3205, \"Kayserispor\", 31.21, 32, 27.2, 46.9, 4, \"Büyükşehir Belediyesi Kadir Has\", 32864, 403.0, \"Hikmet Karaman\");\n",
      "INSERT INTO club VALUES (11282, \"Alanyaspor\", 33.39, 27, 26.8, 40.7, 4, \"Bahçeşehir Okulları Stadyumu\", 10128, 6220000.0, \"Francesco Farioli\");\n",
      "INSERT INTO club VALUES (1467, \"Goztepe\", 21.29, 27, 25.8, 40.7, 4, \"Gürsel Aksel Stadyumu\", 19713, 2049999.9999999998, \"Serdar Sabuncu\");\n",
      "INSERT INTO club VALUES (3840, \"Adana Demirspor\", 36.05, 27, 27.7, 55.6, 6, \"Yeni Adana Stadyumu\", 33000, -1570000.0, \"Vincenzo Montella\");\n",
      "INSERT INTO club VALUES (589, \"Antalyaspor\", 26.91, 31, 26.9, 48.4, 4, \"Antalya Stadyumu\", 32537, 2040000.0, \"Nuri Sahin\");\n",
      "INSERT INTO club VALUES (114, \"Besiktas Istanbul\", 91.78, 35, 26.8, 48.6, 13, \"Vodafone Park\", 42590, -6350000.0, \"Valérien Ismaël\");\n",
      "INSERT INTO club VALUES (141, \"Galatasaray Istanbul\", 93.8, 28, 27.2, 50.0, 16, \"Ali Sami Yen Spor Kompleksi NEF Stadyumu\", 52223, -22910000.0, \"Domènec Torrent\");\n",
      "INSERT INTO club VALUES (449, \"Trabzonspor\", 100.89, 35, 26.1, 45.7, 10, \"Şenol Güneş Spor Kompleksi\", 40782, -11540000.0, \"Abdullah Avci\");\n",
      "INSERT INTO club VALUES (36, \"Fenerbahce Istanbul\", 120.26, 29, 25.9, 51.7, 14, \"Ülker Stadyumu FB Şükrü Saraçoğlu Spor Kompleksi\", 47834, -9710000.0, \"Ismail Kartal\");\n",
      "INSERT INTO club VALUES (2832, \"Gaziantep Fk\", 24.59, 25, 26.5, 52.0, 2, \"Kalyon Stadyumu\", 33502, -1220000.0, \"Erol Bulut\");\n",
      "INSERT INTO club VALUES (6890, \"Istanbul Basaksehir Fk\", 51.73, 30, 27.9, 36.7, 5, \"Başakşehir Fatih Terim\", 17156, 2520000.0, \"Emre Belözoglu\");\n",
      "INSERT INTO club VALUES (410, \"Udinese Calcio\", 93.83, 26, 26.8, 80.8, 4, \"Dacia Arena\", 25144, 57080000.0, \"Gabriele Cioffi\");\n",
      "INSERT INTO club VALUES (252, \"Genua Cfc\", 101.57, 32, 25.7, 53.1, 8, \"Luigi Ferraris\", 34901, -18360000.0, \"Alexander Blessin\");\n",
      "INSERT INTO club VALUES (276, \"Hellas Verona\", 113.24, 26, 25.7, 50.0, 8, \"Marcantonio Bentegodi\", 39211, 4410000.0, \"Igor Tudor\");\n",
      "INSERT INTO club VALUES (1390, \"Cagliari Calcio\", 115.7, 27, 26.3, 44.4, 7, \"Unipol Domus\", 16416, -6480000.0, \"Alessandro Agostini\");\n",
      "INSERT INTO club VALUES (607, \"Venezia Fc\", 74.27, 30, 26.7, 70.0, 10, \"Pier Luigi Penzo\", 11150, -19700000.0, \"Andrea Soncin\");\n",
      "INSERT INTO club VALUES (416, \"Fc Turin\", 198.97, 29, 25.4, 65.5, 16, \"Stadio Grande Torino\", 27994, 2880000.0, \"Ivan Juric\");\n",
      "INSERT INTO club VALUES (6574, \"Us Sassuolo\", 212.94, 30, 26.4, 53.3, 12, \"Mapei Stadium - Città del Tricolore\", 21584, -14130000.0, \"Alessio Dionisi\");\n",
      "INSERT INTO club VALUES (430, \"Ac Florenz\", 213.3, 25, 27.1, 68.0, 13, \"Artemio Franchi\", 47282, 39560000.0, \"Vincenzo Italiano\");\n",
      "INSERT INTO club VALUES (398, \"Lazio Rom\", 239.63, 25, 27.8, 76.0, 10, \"Olimpico di Roma\", 73261, -4410000.0, \"Maurizio Sarri\");\n",
      "INSERT INTO club VALUES (2293, \"Konyaspor\", 33.5, 24, 27.3, 50.0, 10, \"Medaş Konya Büyükşehir Stadyumu\", 42000, -963.0, \"Ilhan Palut\");\n",
      "INSERT INTO club VALUES (12, \"As Rom\", 332.42, 28, 25.3, 64.3, 16, \"Olimpico di Roma\", 73261, -101820000.0, \"José Mourinho\");\n",
      "INSERT INTO club VALUES (5, \"Ac Mailand\", 432.09, 27, 26.8, 74.1, 17, \"Giuseppe Meazza\", 75923, -65879999.99999999, \"Stefano Pioli\");\n",
      "INSERT INTO club VALUES (749, \"Fc Empoli\", 81.99, 28, 25.5, 39.3, 8, \"Carlo Castellani\", 19847, 15570000.0, \"Aurelio Andreazzoli\");\n",
      "INSERT INTO club VALUES (46, \"Inter Mailand\", 476.01, 25, 30.2, 68.0, 16, \"Giuseppe Meazza\", 75923, 146750000.0, \"Simone Inzaghi\");\n",
      "INSERT INTO club VALUES (506, \"Juventus Turin\", 504.54, 26, 27.3, 57.7, 20, \"Allianz Stadium\", 41507, -56340000.0, \"Massimiliano Allegri\");\n",
      "INSERT INTO club VALUES (1010, \"Fc Watford\", 133.88, 34, 27.4, 85.3, 18, \"Vicarage Road\", 21577, -27590000.0, \"Roy Hodgson\");\n",
      "INSERT INTO club VALUES (1123, \"Norwich City\", 138.15, 37, 25.1, 62.2, 15, \"Carrow Road\", 27244, -23090000.0, \"Dean Smith\");\n",
      "INSERT INTO club VALUES (873, \"Crystal Palace\", 212.18, 26, 27.5, 53.8, 8, \"Selhurst Park\", 26047, -77050000.0, \"Patrick Vieira\");\n",
      "INSERT INTO club VALUES (1148, \"Fc Brentford\", 213.21, 29, 25.5, 79.3, 15, \"Brentford Community Stadium\", 18250, -32130000.000000004, \"Thomas Frank\");\n",
      "INSERT INTO club VALUES (180, \"Fc Southampton\", 224.33, 26, 26.8, 53.8, 8, \"St Mary's Stadium\", 32384, 15540000.0, \"Ralph Hasenhüttl\");\n",
      "INSERT INTO club VALUES (1237, \"Brighton Amp Hove Albion\", 249.66, 29, 24.7, 69.0, 14, \"AMEX Stadium\", 31800, 4320000.0, \"Graham Potter\");\n",
      "INSERT INTO club VALUES (1038, \"Sampdoria Genua\", 86.31, 26, 28.2, 42.3, 8, \"Luigi Ferraris\", 36348, -4820000.0, \"Marco Giampaolo\");\n",
      "INSERT INTO club VALUES (399, \"Leeds United\", 264.69, 28, 24.3, 57.1, 11, \"Elland Road\", 37890, -53010000.0, \"Jesse Marsch\");\n",
      "INSERT INTO club VALUES (379, \"West Ham United\", 314.51, 26, 28.5, 65.4, 14, \"London Stadium\", 60000, -63240000.0, \"David Moyes\");\n",
      "INSERT INTO club VALUES (10484, \"Kasimpasa\", 27.95, 25, 27.4, 52.0, 9, \"Recep Tayyip Erdoğan Stadyumu\", 13856, -270.0, \"Sami Ugurlu\");\n",
      "INSERT INTO club VALUES (29, \"Fc Everton\", 380.48, 28, 27.4, 50.0, 11, \"Goodison Park\", 39571, 5850000.0, \"Frank Lampard\");\n",
      "INSERT INTO club VALUES (405, \"Aston Villa\", 417.96, 28, 26.0, 46.4, 14, \"Villa Park\", 42682, -2540000.0, \"Steven Gerrard\");\n",
      "INSERT INTO club VALUES (1003, \"Leicester City\", 463.32, 28, 27.0, 64.3, 14, \"King Power Stadium\", 32273, -57240000.0, \"Brendan Rodgers\");\n",
      "INSERT INTO club VALUES (11, \"Fc Arsenal\", 468.9, 21, 24.8, 66.7, 16, \"Emirates Stadium\", 60704, -122420000.0, \"Mikel Arteta\");\n",
      "INSERT INTO club VALUES (2381, \"Sivasspor\", 24.73, 26, 29.6, 46.2, 3, \"Yeni 4 Eylül Stadı\", 27532, 450.0, \"Riza Calimbay\");\n",
      "INSERT INTO club VALUES (148, \"Tottenham Hotspur\", 533.03, 23, 25.6, 65.2, 15, \"Tottenham Hotspur Stadium\", 62062, -55600000.0, \"Antonio Conte\");\n",
      "INSERT INTO club VALUES (6646, \"Fatih Karagumruk\", 28.82, 29, 26.7, 51.7, 3, \"Atatürk Olimpiyat\", 74753, 4320000.0, \"Atilay Canel\");\n",
      "INSERT INTO club VALUES (631, \"Fc Chelsea\", 782.46, 31, 26.8, 67.7, 18, \"Stamford Bridge\", 40853, 1760000.0, \"Thomas Tuchel\");\n",
      "INSERT INTO club VALUES (31, \"Fc Liverpool\", 834.75, 33, 26.5, 66.7, 19, \"Anfield\", 54074, -53550000.0, \"Jürgen Klopp\");\n",
      "INSERT INTO club VALUES (1063, \"Viborg Ff\", 7.61, 28, 23.2, 42.9, 1, \"Viborg Stadion\", 9566, 847.0, \"Jacob Friis\");\n",
      "INSERT INTO club VALUES (443, \"Vejle Boldklub\", 8.64, 26, 23.7, 73.1, 2, \"Vejle Stadion\", 10418, 3020000.0, \"Ivan Prelec\");\n",
      "INSERT INTO club VALUES (1177, \"Silkeborg If\", 9.0, 29, 23.6, 17.2, 2, \"JYSK Park\", 10000, -0.0, \"Kent Nielsen\");\n",
      "INSERT INTO club VALUES (5817, \"Sonderjyske\", 9.09, 28, 24.5, 46.4, 4, \"Sydbank Park\", 10000, -139.0, \"Henrik Hansen\");\n",
      "INSERT INTO club VALUES (173, \"Odense Boldklub\", 10.13, 27, 24.2, 40.7, 3, \"Nature Energy Park\", 15790, 2510000.0, \"Andreas Alm\");\n",
      "INSERT INTO club VALUES (543, \"Wolverhampton Wanderers\", 327.15, 28, 25.7, 78.6, 12, \"Molineux Stadium\", 32050, -5220000.0, \"Bruno Lage\");\n",
      "INSERT INTO club VALUES (1053, \"Aalborg Bk\", 12.11, 24, 25.3, 33.3, 3, \"Aalborg Portland Park\", 13800, -270.0, \"Lars Friis\");\n",
      "INSERT INTO club VALUES (6195, \"Ssc Neapel\", 444.47, 25, 27.4, 72.0, 16, \"Stadio Diego Armando Maradona\", 54726, -17100000.0, \"Luciano Spalletti\");\n",
      "INSERT INTO club VALUES (762, \"Newcastle United\", 261.36, 30, 28.3, 53.3, 10, \"St James' Park\", 52338, -118350000.0, \"Eddie Howe\");\n",
      "INSERT INTO club VALUES (2778, \"Fc Nordsjaelland\", 22.86, 31, 20.9, 54.8, 0, \"Right to Dream Park\", 10300, 14450000.0, \"Flemming Pedersen\");\n",
      "INSERT INTO club VALUES (865, \"Fc Midtjylland\", 42.8, 30, 24.3, 50.0, 6, \"MCH Arena\", 11535, 20460000.0, \"Bo Henriksen\");\n",
      "INSERT INTO club VALUES (190, \"Fc Kopenhagen\", 58.14, 29, 25.0, 69.0, 13, \"Parken\", 38065, 14610000.0, \"Jess Thorup\");\n",
      "INSERT INTO club VALUES (2671, \"Pas Giannina\", 8.03, 28, 25.9, 42.9, 2, \"Stadio Zosimades\", 7652, -90.0, \"Iraklis Metaxas\");\n",
      "INSERT INTO club VALUES (206, \"Brondby If\", 22.5, 26, 24.0, 46.2, 4, \"Brøndby Stadion\", 28000, 7060000.0, \"Niels Frederiksen\");\n",
      "INSERT INTO club VALUES (60949, \"Volos Nps\", 8.42, 26, 26.6, 73.1, 2, \"Panthessaliko Stadio\", 22700, 1290000.0, \"Konstantinos Bratsos\");\n",
      "INSERT INTO club VALUES (1025, \"Fc Bologna\", 131.4, 29, 25.9, 69.0, 13, \"Stadio Renato Dall’Ara\", 36462, -3430000.0, \"Siniša Mihajlović\");\n",
      "INSERT INTO club VALUES (3060, \"Atromitos Athen\", 11.72, 29, 26.6, 41.4, 4, \"Stadio Peristeriou\", 9050, -90.0, \"Chris Coleman\");\n",
      "INSERT INTO club VALUES (653, \"Ofi Kreta\", 13.37, 28, 27.3, 42.9, 3, \"Gipedo Theodoros Vardinogiannis\", 9088, 585.0, \"Nikolaos Nioplias\");\n",
      "INSERT INTO club VALUES (3999, \"Pas Lamia 1964\", 8.42, 32, 28.0, 37.5, 1, \"Stadio Lamia Athanasios Diakos\", 5500, -0.0, \"Gianluca Festa\");\n",
      "INSERT INTO club VALUES (605, \"Aris Thessaloniki\", 21.83, 33, 28.2, 75.8, 6, \"Gipedo Kleanthis Vikelidis\", 22800, -2500000.0, \"Germán Burgos\");\n",
      "INSERT INTO club VALUES (800, \"Atalanta Bergamo\", 346.41, 25, 27.6, 72.0, 20, \"Gewiss Stadium\", 22512, -19170000.0, \"Gian Piero Gasperini\");\n",
      "INSERT INTO club VALUES (281, \"Manchester City\", 863.37, 22, 27.8, 68.2, 18, \"Etihad Stadium\", 55017, -36630000.0, \"Pep Guardiola\");\n",
      "INSERT INTO club VALUES (683, \"Olympiakos Piraus\", 106.07, 38, 25.8, 65.8, 14, \"Stadio Georgios Karaiskakis\", 32115, 656.0, \"Pedro Martins\");\n",
      "INSERT INTO club VALUES (985, \"Manchester United\", 696.83, 31, 27.2, 58.1, 22, \"Old Trafford\", 74879, -98370000.0, \"Erik ten Hag\");\n",
      "INSERT INTO club VALUES (511, \"Dundee Fc\", 6.21, 27, 26.6, 33.3, 1, \"Kilmac Stadium at Dens Park\", 11850, -0.0, \"Mark McGhee\");\n",
      "INSERT INTO club VALUES (1241, \"Livingston Fc\", 7.9, 31, 26.7, 48.4, 0, \"Tony Macaroni Arena\", 9512, -0.0, \"David Martindale\");\n",
      "INSERT INTO club VALUES (5724, \"Randers Fc\", 12.83, 25, 25.4, 44.0, 1, \"Cepheus Park Randers\", 10300, 855.0, \"Thomas Thomasberg\");\n",
      "INSERT INTO club VALUES (2578, \"St Johnstone Fc\", 9.14, 30, 27.2, 40.0, 3, \"McDiarmid Park\", 10696, 1670000.0, \"Callum Davidson\");\n",
      "INSERT INTO club VALUES (1519, \"Dundee United Fc\", 9.16, 33, 24.2, 33.3, 3, \"Tannadice Park\", 14223, 2370000.0, \"Tam Courts\");\n",
      "INSERT INTO club VALUES (2441, \"Aek Athen\", 47.52, 29, 27.8, 69.0, 13, \"Olympiakó Stádio Athinon Spyros Louis\", 69618, -2350000.0, \"Sokratis Ofrydopoulos\");\n",
      "INSERT INTO club VALUES (1091, \"Paok Thessaloniki\", 51.3, 29, 27.2, 75.9, 8, \"Toumba Stadium\", 28703, 19390000.0, \"Razvan Lucescu\");\n",
      "INSERT INTO club VALUES (903, \"Hibernian Fc\", 14.4, 26, 26.2, 38.5, 4, \"Easter Road Stadium\", 20250, 2970000.0, \"Lee Johnson\");\n",
      "INSERT INTO club VALUES (43, \"Heart Of Midlothian Fc\", 10.13, 22, 26.6, 45.5, 5, \"Tynecastle Park\", 20099, -0.0, \"Robbie Neilson\");\n",
      "INSERT INTO club VALUES (678, \"Aarhus Gf\", 16.88, 27, 24.1, 44.4, 5, \"Ceres Park\", 19433, -3560000.0, \"David Nielsen\");\n",
      "INSERT INTO club VALUES (124, \"Glasgow Rangers\", 99.41, 31, 26.6, 71.0, 15, \"Ibrox Stadium\", 50987, 10780000.0, \"Giovanni van Bronckhorst\");\n",
      "INSERT INTO club VALUES (987, \"Motherwell Fc\", 8.3, 30, 25.5, 63.3, 5, \"Fir Park\", 13750, 107.0, \"Graham Alexander\");\n",
      "INSERT INTO club VALUES (265, \"Panathinaikos Athen\", 29.97, 29, 27.4, 62.1, 6, \"Apostolos Nikolaidis\", 15000, -1130000.0, \"Ivan Jovanovic\");\n",
      "INSERT INTO club VALUES (6993, \"Fk Mariupol\", 4.86, 18, 22.4, NULL, 0, \"Stadion im. Volodymyra Boyko\", 12680, -0.0, \"Ostap Markevych\");\n",
      "INSERT INTO club VALUES (26459, \"Nk Veres Rivne\", 5.0, 24, 27.3, NULL, 0, \"Avangard\", 12080, -18.0, \"Yuriy Virt\");\n",
      "INSERT INTO club VALUES (55686, \"Metalist 1925 Kharkiv\", 5.29, 24, 26.3, NULL, 0, \"OSK Metalist\", 40003, -0.0, \"Valeriy Kryventsov\");\n",
      "INSERT INTO club VALUES (371, \"Celtic Glasgow\", 67.5, 38, 24.5, 63.2, 17, \"Celtic Park\", 60832, 9980000.0, \"Ange Postecoglou\");\n",
      "INSERT INTO club VALUES (48726, \"Rukh Lviv\", 5.81, 21, 25.2, 14.3, 0, \"Arena Lviv\", 34512, 162.0, \"Leonid Kuchuk\");\n",
      "INSERT INTO club VALUES (18105, \"Pfk Lviv\", 6.39, 20, 25.7, 15.0, 1, \"Arena Lviv\", 34915, 45.0, \"Oleg Dulub\");\n",
      "INSERT INTO club VALUES (2740, \"Vorskla Poltava\", 7.02, 13, 26.3, 15.4, 1, \"Vorskla im. Oleksiy Butovskyi\", 23842, 225.0, \"Yuriy Maksymov\");\n",
      "INSERT INTO club VALUES (18303, \"Fk Oleksandriya\", 8.66, 25, 24.8, 4.0, 0, \"KSK Nika\", 7000, -135.0, \"Yuriy Gura\");\n",
      "INSERT INTO club VALUES (60551, \"Sk Dnipro 1\", 11.61, 13, 25.5, NULL, 2, \"Dnipro-Arena\", 31003, -2220000.0, \"Igor Jovicevic\");\n",
      "INSERT INTO club VALUES (10690, \"Zorya Lugansk\", 13.41, 26, 25.2, 7.7, 1, \"Slavutych Arena\", 11883, -486.0, \"Viktor Skrypnyk\");\n",
      "INSERT INTO club VALUES (6992, \"Chornomorets Odessa\", 4.19, 18, 26.2, 11.1, 0, \"Stadion Chornomorets\", 34164, 45.0, \"Roman Grygorchuk\");\n",
      "INSERT INTO club VALUES (49364, \"Ingulets Petrove\", 4.55, 20, 27.3, 10.0, 0, \"Stadion Zirka im. Stanislava Berezkina\", 13305, 45.0, \"Sergiy Lavrynenko\");\n",
      "INSERT INTO club VALUES (338, \"Dynamo Kiew\", 87.3, 24, 25.5, NULL, 13, \"NSK Olimpiyskyi\", 70050, 16830000.0, \"Mircea Lucescu\");\n",
      "INSERT INTO club VALUES (6418, \"Panetolikos Gfs\", 9.18, 29, 26.6, 55.2, 3, \"Gipedo Panetolikou\", 5230, 540.0, \"Giannis Anastasiou\");\n",
      "INSERT INTO club VALUES (1158, \"Fc Lorient\", 50.36, 27, 25.9, 37.0, 5, \"Stade du Moustoir\", 19010, -450.0, \"Christophe Pélissier\");\n",
      "INSERT INTO club VALUES (1420, \"Sco Angers\", 63.95, 26, 26.4, 50.0, 8, \"Stade Raymond Kopa\", 16381, 14670000.0, \"Gérald Baticle\");\n",
      "INSERT INTO club VALUES (40, \"Fc Girondins Bordeaux\", 75.51, 31, 25.2, 61.3, 11, \"Matmut Atlantique\", 42052, 7470000.0, \"David Guion\");\n",
      "INSERT INTO club VALUES (3911, \"Stade Brest 29\", 77.0, 26, 25.7, 30.8, 5, \"Stade Francis-Le Blé\", 15097, 16830000.0, \"Michel Der Zakarian\");\n",
      "INSERT INTO club VALUES (618, \"As Saint Etienne\", 86.67, 29, 25.2, 51.7, 8, \"Stade Geoffroy-Guichard\", 42000, -540.0, \"Pascal Dupraz\");\n",
      "INSERT INTO club VALUES (995, \"Fc Nantes\", 98.51, 25, 26.1, 44.0, 7, \"Stade de la Beaujoire\", 37463, 7470000.0, \"Antoine Kombouaré\");\n",
      "INSERT INTO club VALUES (969, \"Montpellier Hsc\", 99.86, 26, 25.2, 42.3, 5, \"Stade de la Mosson\", 32939, 22320000.0, \"Olivier Dall'Oglio\");\n",
      "INSERT INTO club VALUES (370, \"Aberdeen Fc\", 9.7, 22, 26.2, 40.9, 2, \"Pittodrie Stadium\", 22199, 252.0, \"Jim Goodwin\");\n",
      "INSERT INTO club VALUES (347, \"Fc Metz\", 70.16, 31, 25.4, 58.1, 7, \"Stade Saint-Symphorien\", 26700, 17100000.0, \"Frédéric Antonetti\");\n",
      "INSERT INTO club VALUES (826, \"Rc Lens\", 130.28, 23, 25.8, 60.9, 11, \"Stade Bollaert-Delelis\", 38223, -2340000.0, \"Franck Haise\");\n",
      "INSERT INTO club VALUES (1082, \"Losc Lille\", 207.99, 23, 26.3, 78.3, 11, \"Stade Pierre-Mauroy\", 50186, 49910000.0, \"Jocelyn Gourvennec\");\n",
      "INSERT INTO club VALUES (1095, \"Es Troyes Ac\", 55.94, 31, 26.4, 51.6, 6, \"Stade de l'Aube\", 21877, -19620000.0, \"Bruno Irles\");\n",
      "INSERT INTO club VALUES (417, \"Ogc Nizza\", 221.63, 26, 24.4, 65.4, 7, \"Allianz Riviera\", 36178, -26910000.0, \"Christophe Galtier\");\n",
      "INSERT INTO club VALUES (48332, \"Kolos Kovalivka\", 5.33, 19, 25.4, 5.3, 0, \"Kolos\", 5050, -85.0, \"Yaroslav Vyshnyak\");\n",
      "INSERT INTO club VALUES (1041, \"Olympique Lyon\", 298.04, 28, 24.6, 53.6, 9, \"Groupama Stadium\", 59186, 65410000.0, \"Peter Bosz\");\n",
      "INSERT INTO club VALUES (61825, \"Fk Minaj\", 4.14, 24, 25.9, 12.5, 1, \"Avangard\", 12000, 360.0, \"Volodymyr Sharan\");\n",
      "INSERT INTO club VALUES (1421, \"Stade Reims\", 118.4, 30, 23.8, 70.0, 13, \"Stade Auguste-Delaune\", 21684, -855.0, \"Óscar García\");\n",
      "INSERT INTO club VALUES (41274, \"Beerschot V A \", 13.41, 26, 25.8, 53.8, 2, \"Olympisch Stadion\", 12771, -2009999.9999999998, \"Greg Vanderidt\");\n",
      "INSERT INTO club VALUES (1245, \"Kas Eupen\", 16.22, 31, 25.0, 71.0, 5, \"Kehrweg-Stadion\", 8331, 4230000.0, \"Michael Valkanis\");\n",
      "INSERT INTO club VALUES (475, \"Vv St Truiden\", 16.31, 27, 25.4, 55.6, 3, \"Stayen\", 14600, 4260000.0, \"Bernd Hollerbach\");\n",
      "INSERT INTO club VALUES (273, \"Fc Stade Rennes\", 215.82, 26, 24.1, 38.5, 9, \"Roazhon Park\", 29778, -30470000.0, \"Bruno Génésio\");\n",
      "INSERT INTO club VALUES (520, \"Cercle Brugge\", 21.02, 24, 23.9, 58.3, 6, \"Jan-Breydel-Stadion\", 29062, -630.0, \"Dominik Thalhammer\");\n",
      "INSERT INTO club VALUES (2727, \"Oud Heverlee Leuven\", 21.29, 28, 24.8, 50.0, 10, \"King Power at Den Dreef Stadion\", 10020, 2700000.0, \"Marc Brys\");\n",
      "INSERT INTO club VALUES (2861, \"Kv Oostende\", 22.32, 27, 23.5, 63.0, 4, \"Diaz Arena\", 8432, 5220000.0, \"Yves Vanderhaeghe\");\n",
      "INSERT INTO club VALUES (465, \"St Mirren Fc\", 6.35, 23, 25.5, 52.2, 1, \"The SMISA Stadium\", 8023, -0.0, \"Stephen Robinson\");\n",
      "INSERT INTO club VALUES (354, \"Kv Mechelen\", 29.88, 27, 24.9, 37.0, 2, \"AFAS Stadion\", 16672, 7110000.0, \"Wouter Vrancken\");\n",
      "INSERT INTO club VALUES (162, \"As Monaco\", 339.98, 29, 24.5, 100.0, 8, \"Stade Louis-II\", 18523, -9680000.0, \"Philippe Clement\");\n",
      "INSERT INTO club VALUES (172, \"Rsc Charleroi\", 33.17, 28, 22.6, 57.1, 9, \"Stade du Pays de Charleroi\", 15000, 7740000.0, \"Edward Still\");\n",
      "INSERT INTO club VALUES (660, \"Shakhtar Donetsk\", 144.99, 24, 25.1, 37.5, 12, \"NSK Olimpiyskyi\", 70050, -45270000.0, \"Roberto De Zerbi\");\n",
      "INSERT INTO club VALUES (157, \"Kaa Gent\", 50.06, 28, 26.4, 57.1, 11, \"Ghelamco Arena\", 19999, 18810000.0, \"Hein Vanhaezebrouck\");\n",
      "INSERT INTO club VALUES (1096, \"Royal Antwerpen Fc\", 53.6, 33, 25.4, 57.6, 5, \"De Bosuil\", 16144, -24800000.0, \"Brian Priske\");\n",
      "INSERT INTO club VALUES (3948, \"Royale Union Saint Gilloise\", 48.71, 26, 24.8, 73.1, 8, \"Stade Joseph Mariën\", 8000, 5260000.0, \"Felice Mazzù\");\n",
      "INSERT INTO club VALUES (58, \"Rsc Anderlecht\", 91.22, 28, 23.3, 46.4, 6, \"Lotto Park\", 21500, 7610000.0, \"Vincent Kompany\");\n",
      "INSERT INTO club VALUES (1184, \"Krc Genk\", 92.16, 24, 23.2, 70.8, 13, \"Cegeka Arena\", 24956, -3330000.0, \"Bernd Storck\");\n",
      "INSERT INTO club VALUES (3057, \"Standard Luttich\", 35.82, 27, 24.0, 51.9, 7, \"Maurice Dufrasne Stadion\", 27670, 21650000.0, \"Will Still\");\n",
      "INSERT INTO club VALUES (1531, \"Fc Elche\", 55.08, 24, 29.4, 41.7, 4, \"Manuel Martínez Valero\", 33732, -7200000.0, \"Francisco Rodríguez\");\n",
      "INSERT INTO club VALUES (1108, \"Deportivo Alaves\", 57.92, 27, 27.0, 29.6, 5, \"Mendizorrotza\", 19840, 2120000.0, \"Luis García\");\n",
      "INSERT INTO club VALUES (3508, \"Sv Zulte Waregem\", 16.63, 29, 25.2, 48.3, 3, \"Regenboogstadion\", 12250, -180.0, \"Timmy Simons\");\n",
      "INSERT INTO club VALUES (3368, \"Ud Levante\", 71.73, 28, 28.4, 32.1, 4, \"Ciutat de València\", 25354, -1130000.0, \"Alessio Lisci\");\n",
      "INSERT INTO club VALUES (667, \"Rc Strassburg Alsace\", 103.1, 24, 26.2, 41.7, 5, \"Stade de la Meinau\", 29000, 10350000.0, \"Julien Stéphan\");\n",
      "INSERT INTO club VALUES (331, \"Ca Osasuna\", 87.84, 24, 28.1, 16.7, 1, \"El Sadar\", 23576, -7830000.0, \"Jagoba Arrasate\");\n",
      "INSERT INTO club VALUES (601, \"Kv Kortrijk\", 22.37, 30, 24.6, 80.0, 9, \"Guldensporenstadion\", 9399, 198.0, \"Karim Belhocine\");\n",
      "INSERT INTO club VALUES (714, \"Espanyol Barcelona\", 110.25, 26, 27.5, 23.1, 7, \"RCDE Stadium\", 40500, -5400000.0, \"Luis Blanco\");\n",
      "INSERT INTO club VALUES (3709, \"Fc Getafe\", 142.92, 25, 26.5, 52.0, 11, \"Coliseum Alfonso Pérez\", 16800, 4500000.0, \"Quique Sánchez Flores\");\n",
      "INSERT INTO club VALUES (621, \"Athletic Bilbao\", 191.34, 25, 26.6, NULL, 2, \"San Mamés\", 53289, -0.0, \"Marcelino\");\n",
      "INSERT INTO club VALUES (2282, \"Fc Brugge\", 143.87, 29, 25.2, 65.5, 13, \"Jan-Breydel-Stadion\", 29062, -19320000.0, \"Alfred Schreuder\");\n",
      "INSERT INTO club VALUES (583, \"Fc Paris Saint Germain\", 736.25, 35, 25.9, 68.6, 19, \"Parc des Princes\", 49691, -70650000.0, \"Mauricio Pochettino\");\n",
      "INSERT INTO club VALUES (1050, \"Fc Villarreal\", 343.35, 25, 28.4, 44.0, 13, \"La Cerámica\", 23500, -39380000.0, \"Unai Emery\");\n",
      "INSERT INTO club VALUES (681, \"Real Sociedad San Sebastian\", 348.66, 28, 26.2, 25.0, 7, \"Reale Arena\", 39500, -2250000.0, \"Imanol Alguacil\");\n",
      "INSERT INTO club VALUES (16795, \"Fc Granada\", 83.52, 29, 27.7, 44.8, 4, \"Nuevo Los Cármenes\", 19336, -11430000.0, \"Aitor Karanka\");\n",
      "INSERT INTO club VALUES (244, \"Olympique Marseille\", 243.54, 28, 24.3, 60.7, 14, \"Orange Vélodrome\", 67394, -35660000.0, \"Jorge Sampaoli\");\n",
      "INSERT INTO club VALUES (131, \"Fc Barcelona\", 611.1, 30, 25.7, 50.0, 21, \"Camp Nou\", 99354, -0.0, \"Xavi\");\n",
      "INSERT INTO club VALUES (418, \"Real Madrid\", 680.85, 26, 27.5, 69.2, 15, \"Santiago Bernabéu\", 81044, 42300000.0, \"Carlo Ancelotti\");\n",
      "INSERT INTO club VALUES (1049, \"Fc Valencia\", 262.62, 26, 24.4, 65.4, 16, \"Mestalla\", 48600, -9140000.0, \"Pepe Bordalás\");\n",
      "INSERT INTO club VALUES (80, \"Vfl Bochum\", 44.69, 30, 27.2, 40.0, 4, \"Vonovia Ruhrstadion\", 27599, 315.0, \"Thomas Reis\");\n",
      "INSERT INTO club VALUES (10, \"Arminia Bielefeld\", 57.2, 25, 24.9, 64.0, 4, \"SchücoArena\", 26515, -8450000.0, \"Marco Kostmann\");\n",
      "INSERT INTO club VALUES (89, \"1 Fc Union Berlin\", 65.7, 28, 27.3, 39.3, 7, \"Stadion An der Alten Försterei\", 22012, 1350000.0, \"Urs Fischer\");\n",
      "INSERT INTO club VALUES (3, \"1 Fc Koln\", 74.14, 28, 25.3, 39.3, 7, \"RheinEnergieSTADION\", 50000, 20610000.0, \"Steffen Baumgart\");\n",
      "INSERT INTO club VALUES (44, \"Hertha Bsc\", 86.58, 31, 25.7, 51.6, 6, \"Olympiastadion Berlin\", 74649, 18990000.0, \"Felix Magath\");\n",
      "INSERT INTO club VALUES (167, \"Fc Augsburg\", 88.02, 28, 26.0, 60.7, 9, \"WWK ARENA\", 30660, -10140000.0, \"Markus Weinzierl\");\n",
      "INSERT INTO club VALUES (39, \"1 Fsv Mainz 05\", 109.85, 25, 25.2, 52.0, 6, \"Mewa Arena\", 33305, 10040000.0, \"Bo Svensson\");\n",
      "INSERT INTO club VALUES (60, \"Sc Freiburg\", 137.32, 27, 25.3, 40.7, 7, \"Europa-Park Stadion\", 34700, 4550000.0, \"Christian Streich\");\n",
      "INSERT INTO club VALUES (79, \"Vfb Stuttgart\", 145.35, 31, 22.8, 58.1, 7, \"Mercedes-Benz Arena\", 60449, 22470000.0, \"Pellegrino Matarazzo\");\n",
      "INSERT INTO club VALUES (24, \"Eintracht Frankfurt\", 179.15, 32, 25.4, 62.5, 13, \"Deutsche Bank Park\", 51500, 13100000.0, \"Oliver Glasner\");\n",
      "INSERT INTO club VALUES (65, \"Spvgg Greuther Furth\", 29.66, 28, 24.8, 39.3, 2, \"Sportpark Ronhof | Thomas Sommer\", 16626, 1940000.0, \"Stefan Leitl\");\n",
      "INSERT INTO club VALUES (940, \"Celta Vigo\", 98.73, 21, 28.0, 42.9, 6, \"Balaídos\", 29000, -6500000.0, \"Eduardo Coudet\");\n",
      "INSERT INTO club VALUES (150, \"Real Betis Sevilla\", 218.79, 27, 29.1, 40.7, 10, \"Benito Villamarín\", 59378, 9450000.0, \"Manuel Pellegrini\");\n",
      "INSERT INTO club VALUES (15, \"Bayer 04 Leverkusen\", 391.01, 27, 24.9, 74.1, 14, \"BayArena\", 30210, -11030000.0, \"Gerardo Seoane\");\n",
      "INSERT INTO club VALUES (237, \"Rcd Mallorca\", 63.9, 27, 27.7, 48.1, 7, \"Son Moix\", 20500, -900.0, \"Javier Aguirre\");\n",
      "INSERT INTO club VALUES (16, \"Borussia Dortmund\", 504.23, 33, 24.8, 57.6, 16, \"SIGNAL IDUNA PARK\", 81365, 56930000.0, \"Matthias Kleinsteiber\");\n",
      "INSERT INTO club VALUES (27, \"Fc Bayern Munchen\", 724.05, 26, 25.8, 57.7, 20, \"Allianz Arena\", 75024, -48150000.0, \"Julian Nagelsmann\");\n",
      "INSERT INTO club VALUES (235, \"Rkc Waalwijk\", 9.99, 28, 25.4, 53.6, 4, \"Mandemakers Stadion\", 7508, 180.0, \"Joseph Oosting\");\n",
      "INSERT INTO club VALUES (2687, \"Fc Cadiz\", 53.6, 26, 29.0, 38.5, 6, \"Nuevo Mirandilla\", 21094, -5490000.0, \"Sergio\");\n",
      "INSERT INTO club VALUES (468, \"Sparta Rotterdam\", 12.56, 22, 28.0, 50.0, 3, \"Sparta-stadion Het Kasteel\", 11026, 6910000.0, \"Maurice Steijn\");\n",
      "INSERT INTO club VALUES (13, \"Atletico Madrid\", 594.45, 22, 28.6, 86.4, 20, \"Wanda Metropolitano\", 68456, -47660000.0, \"Diego Simeone\");\n",
      "INSERT INTO club VALUES (385, \"Fortuna Sittard\", 13.16, 28, 25.7, 53.6, 3, \"Fortuna Sittard Stadion\", 12500, -378.0, \"Sjors Ultee\");\n",
      "INSERT INTO club VALUES (368, \"Fc Sevilla\", 370.71, 26, 28.3, 73.1, 14, \"Ramón Sánchez-Pizjuán\", 43883, -11700000.0, \"Julen Lopetegui\");\n",
      "INSERT INTO club VALUES (1304, \"Heracles Almelo\", 15.37, 32, 23.4, 68.8, 1, \"Erve Asito\", 12080, 45.0, \"René Kolmschot\");\n",
      "INSERT INTO club VALUES (18, \"Borussia Monchengladbach\", 198.27, 26, 26.0, 50.0, 11, \"Stadion im Borussia-Park\", 54022, -7470000.0, \"Adi Hütter\");\n",
      "INSERT INTO club VALUES (306, \"Sc Heerenveen\", 19.15, 29, 24.0, 37.9, 2, \"Abe Lenstra Stadion\", 27224, 4230000.0, \"Ole Tobiasen\");\n",
      "INSERT INTO club VALUES (82, \"Vfl Wolfsburg\", 212.85, 28, 25.1, 64.3, 12, \"Volkswagen Arena\", 30000, -53850000.0, \"Michael Frontzeck\");\n",
      "INSERT INTO club VALUES (200, \"Fc Utrecht\", 31.55, 32, 24.7, 31.3, 2, \"Stadion Galgenwaard\", 23750, 4910000.0, \"Rick Kruys\");\n",
      "INSERT INTO club VALUES (499, \"Vitesse Arnheim\", 36.88, 26, 23.2, 57.7, 5, \"GelreDome\", 21248, -1640000.0, \"Thomas Letsch\");\n",
      "INSERT INTO club VALUES (317, \"Fc Twente Enschede\", 19.04, 25, 24.2, 28.0, 4, \"De Grolsch Veste\", 30205, 2880000.0, \"Ron Jans\");\n",
      "INSERT INTO club VALUES (202, \"Fc Groningen\", 20.77, 27, 22.7, 48.1, 3, \"Euroborg\", 22555, 5780000.0, \"Danny Buijs\");\n",
      "INSERT INTO club VALUES (383, \"Psv Eindhoven\", 144.18, 26, 25.0, 76.9, 9, \"Philips Stadion\", 35000, 34710000.0, \"Roger Schmidt\");\n",
      "INSERT INTO club VALUES (610, \"Ajax Amsterdam\", 310.73, 28, 25.5, 53.6, 17, \"Johan Cruijff ArenA\", 55600, 24750000.0, \"Michael Reiziger\");\n",
      "INSERT INTO club VALUES (8024, \"Fc Arouca\", 12.6, 29, 27.0, 75.9, 5, \"Estádio Municipal de Arouca\", 5000, -0.0, \"Armando Evangelista\");\n",
      "INSERT INTO club VALUES (1301, \"Cs Maritimo\", 13.1, 24, 26.5, 62.5, 3, \"Estádio do Marítimo\", 10932, -0.0, \"Vasco Seabra\");\n",
      "INSERT INTO club VALUES (1269, \"Pec Zwolle\", 12.8, 30, 24.5, 40.0, 4, \"MAC³PARK stadion\", 14000, -0.0, \"Dick Schreuder\");\n",
      "INSERT INTO club VALUES (1090, \"Az Alkmaar\", 60.5, 27, 23.4, 44.4, 10, \"AFAS Stadion\", 19478, 39830000.0, \"Pascal Jansen\");\n",
      "INSERT INTO club VALUES (6912, \"Fc Vizela\", 14.09, 24, 27.1, 62.5, 1, \"Estádio do Vizela\", 6565, 118.0, \"Álvaro Pacheco\");\n",
      "INSERT INTO club VALUES (979, \"Moreirense Fc\", 13.28, 26, 26.9, 69.2, 3, \"E. C. J. de Almeida Freitas\", 6153, 5580000.0, \"Ricardo Sá Pinto\");\n",
      "INSERT INTO club VALUES (2423, \"Cd Santa Clara\", 17.66, 25, 26.6, 60.0, 3, \"Estádio de São Miguel\", 15000, 6310000.0, \"Mário Silva\");\n",
      "INSERT INTO club VALUES (7378, \"Portimonense Sc\", 18.5, 27, 25.0, 81.5, 4, \"Portimonense Estádio\", 6000, 6410000.0, \"Paulo Sérgio\");\n",
      "INSERT INTO club VALUES (7179, \"Cd Tondela\", 18.86, 27, 24.7, 66.7, 5, \"Estádio João Cardoso\", 5000, 378.0, \"Nuno Campos\");\n",
      "INSERT INTO club VALUES (2424, \"Gil Vicente Fc\", 23.42, 27, 25.3, 70.4, 3, \"Estádio Municipal de Barcelos\", 12504, 1800000.0, \"Ricardo Soares\");\n",
      "INSERT INTO club VALUES (1465, \"Gd Estoril Praia\", 23.49, 28, 24.9, 57.1, 2, \"Estádio António Coimbra da Mota\", 8000, 4500000.0, \"Bruno Pinheiro\");\n",
      "INSERT INTO club VALUES (2503, \"Boavista Porto Fc\", 23.76, 26, 25.0, 61.5, 10, \"Estádio do Bessa Sec. XXI\", 28263, -4820000.0, \"Petit\");\n",
      "INSERT INTO club VALUES (403, \"Willem Ii Tilburg\", 14.49, 27, 24.8, 63.0, 0, \"Koning Willem II Stadion\", 14700, 3650000.0, \"Kevin Hofland\");\n",
      "INSERT INTO club VALUES (2457, \"Belenenses Sad\", 13.61, 28, 25.1, 50.0, 4, \"Estádio das Seixas\", 12500, 2029999.9999999998, \"Franclim Carvalho\");\n",
      "INSERT INTO club VALUES (1075, \"Sc Braga\", 100.53, 25, 24.2, 36.0, 4, \"Estádio Municipal de Braga\", 30286, 23010000.0, \"Carlos Carvalhal\");\n",
      "INSERT INTO club VALUES (467, \"Nec Nijmegen\", 11.95, 25, 25.3, 52.0, 3, \"Goffertstadion\", 12500, -0.0, \"Rogier Meijer\");\n",
      "INSERT INTO club VALUES (336, \"Sporting Lissabon\", 235.08, 24, 26.4, 45.8, 8, \"Estádio José Alvalade XXI\", 50080, -5520000.0, \"Rúben Amorim\");\n",
      "INSERT INTO club VALUES (294, \"Benfica Lissabon\", 244.35, 27, 26.9, 70.4, 15, \"Estádio da Luz\", 65000, 21600000.0, \"Nélson Veríssimo\");\n",
      "INSERT INTO club VALUES (720, \"Fc Porto\", 233.37, 26, 26.7, 53.8, 11, \"Estádio do Dragão\", 50399, 34110000.0, \"Sérgio Conceição\");\n",
      "INSERT INTO club VALUES (3719, \"Fk Khimki\", 17.93, 25, 26.5, 28.0, 2, \"Arena Khimki\", 18636, -591.0, \"Sergey Yuran\");\n",
      "INSERT INTO club VALUES (3729, \"Arsenal Tula\", 20.32, 25, 28.1, 24.0, 3, \"Arsenal\", 19241, 2210000.0, \"Miodrag Bozovic\");\n",
      "INSERT INTO club VALUES (3725, \"Akhmat Grozny\", 22.87, 28, 26.3, 25.0, 4, \"Akhmat-Arena\", 30200, 3300000.0, \"Andrey Talalaev\");\n",
      "INSERT INTO club VALUES (2696, \"Krylya Sovetov Samara\", 23.04, 26, 23.8, 15.4, 0, \"Solidarnost Samara Arena\", 44918, 1160000.0, \"Igor Osinjkin\");\n",
      "INSERT INTO club VALUES (1083, \"Fk Rostov\", 27.32, 26, 24.1, 15.4, 5, \"Rostov Arena\", 45145, 410.0, \"Valeriy Karpin\");\n",
      "INSERT INTO club VALUES (23826, \"Rasenballsport Leipzig\", 419.04, 26, 24.5, 73.1, 17, \"Red Bull Arena\", 47069, 5290000.0, \"Domenico Tedesco\");\n",
      "INSERT INTO club VALUES (41231, \"Fk Sochi\", 28.58, 21, 28.6, 28.6, 2, \"Fisht Olympic Stadium\", 43700, -4290000.0, \"Vladimir Fedotov\");\n",
      "INSERT INTO club VALUES (533, \"Tsg 1899 Hoffenheim\", 190.31, 30, 25.6, 56.7, 14, \"PreZero Arena\", 30150, 765.0, \"Sebastian Hoeneß\");\n",
      "INSERT INTO club VALUES (232, \"Spartak Moskau\", 92.66, 24, 24.6, 25.0, 8, \"Otkrytie Bank Arena\", 45360, -10820000.0, \"Paolo Vanoli\");\n",
      "INSERT INTO club VALUES (121, \"Dinamo Moskau\", 94.23, 24, 25.4, 29.2, 12, \"VTB-Arena\", 25716, -4990000.0, \"Pavel Alpatov\");\n",
      "INSERT INTO club VALUES (964, \"Zenit St Petersburg\", 148.1, 22, 27.0, 36.4, 14, \"Gazprom Arena\", 68134, -36480000.0, \"Sergey Semak\");\n",
      "INSERT INTO club VALUES (3329, \"Fc Famalicao\", 43.16, 31, 23.7, 58.1, 1, \"Estádio Municipal de Famalicão\", 5300, 5310000.0, \"Rui Pedro Silva\");\n",
      "INSERT INTO club VALUES (2995, \"Fc Pacos De Ferreira\", 17.24, 29, 25.6, 55.2, 1, \"Estádio Capital do Móvel\", 9200, -0.0, \"César Peixoto\");\n",
      "INSERT INTO club VALUES (28095, \"Fk Ufa\", 15.44, 24, 26.5, 29.2, 3, \"BetBoom Arena\", 15132, 419.0, \"Aleksandr Nagorniy\");\n",
      "INSERT INTO club VALUES (2420, \"Vitoria Guimaraes Sc\", 39.56, 30, 24.1, 43.3, 5, \"Estádio D. Afonso Henriques\", 29865, 4590000.0, \"Pêpa\");\n",
      "INSERT INTO club VALUES (234, \"Feyenoord Rotterdam\", 120.65, 28, 23.6, 46.4, 13, \"Stadion Feyenoord De Kuip\", 47500, -900.0, \"Arne Slot\");\n",
      "INSERT INTO club VALUES (2410, \"Zska Moskau\", 94.37, 23, 25.4, 39.1, 10, \"VEB Arena\", 30457, 38700000.0, \"Aleksey Berezutski\");\n"
     ]
    }
   ],
   "source": [
    "### CLUB\n",
    "\n",
    "file_path = '../../datas/results/clubs.csv'\n",
    "with open(file_path, mode='r') as csv_data:\n",
    "    \n",
    "    reader = csv.reader(csv_data, delimiter=',')\n",
    "    csv_data_list = list(reader)\n",
    "    #print(len(csv_data_list))\n",
    "    #print(csv_data_list[1])\n",
    "    #print(csv_data_list[0])\n",
    "    for row in csv_data_list[1:]:\n",
    "        #print(row)\n",
    "        #break\n",
    "        for i in range(len(row)):\n",
    "            if row[i]=='':\n",
    "                row[i] = 'NULL'\n",
    "            if '\"' in row[i]:\n",
    "                a = row[i].split('\"')\n",
    "                b = ''\n",
    "                for c in a:\n",
    "                    b = b + c\n",
    "                row[i] = b\n",
    "        x = 'INSERT INTO club VALUES ('\n",
    "        x = x + row[1] + ', ' #ID int\n",
    "        x = x + '\"'+row[2]+'\"'+ ', '# Name str\n",
    "        x = x + row[4] + ', '\n",
    "        x = x + row[5] + ', '\n",
    "        x = x + row[6]+ ', '\n",
    "        x = x + row[7] + ', '\n",
    "        x = x + row[8] + ', '\n",
    "        x = x + '\"'+row[9]+'\"' + ', ' # Name str\n",
    "        x = x + row[10] + ', '\n",
    "        x = x + str(float(row[11])) + ', '\n",
    "        x = x + '\"'+row[12]+'\"'# Name str\n",
    "        x = x +');'\n",
    "        print(x)\n",
    "        #break\n",
    "    #    row = tuple(map(lambda x: None if x == \"\" else x, row[0].split(',')))\n",
    "        #db_cursor.execute(x)"
   ]
  },
  {
   "cell_type": "code",
   "execution_count": 60,
   "metadata": {},
   "outputs": [
    {
     "data": {
      "text/plain": [
       "400"
      ]
     },
     "execution_count": 60,
     "metadata": {},
     "output_type": "execute_result"
    }
   ],
   "source": [
    "db_cursor.execute(\"SELECT * FROM club\")\n",
    "x = db_cursor.fetchall()\n",
    "len(x)"
   ]
  },
  {
   "cell_type": "code",
   "execution_count": 15,
   "metadata": {},
   "outputs": [
    {
     "data": {
      "text/plain": [
       "'\\ndb_cursor.execute(\"Describe player\")\\nx = db_cursor.fetchall()\\nx'"
      ]
     },
     "execution_count": 15,
     "metadata": {},
     "output_type": "execute_result"
    }
   ],
   "source": [
    "\"\"\"\n",
    "db_cursor.execute(\"Describe player\")\n",
    "x = db_cursor.fetchall()\n",
    "x\"\"\""
   ]
  },
  {
   "cell_type": "code",
   "execution_count": 16,
   "metadata": {},
   "outputs": [],
   "source": [
    "db_cursor.execute(\"delete from player\")"
   ]
  },
  {
   "cell_type": "code",
   "execution_count": 63,
   "metadata": {},
   "outputs": [
    {
     "name": "stdout",
     "output_type": "stream",
     "text": [
      "['', 'player_id', 'last_season', 'current_club_id', 'pretty_name', 'country_of_citizenship', 'date_of_birth', 'position', 'foot', 'height_in_cm', 'market_value_in_gbp', 'highest_market_value_in_gbp']\n"
     ]
    }
   ],
   "source": [
    "### CLUB\n",
    "l = []\n",
    "file_path = '../../datas/results/players.csv'\n",
    "with open(file_path, mode='r') as csv_data:\n",
    "    \n",
    "    reader = csv.reader(csv_data, delimiter=',')\n",
    "    csv_data_list = list(reader)\n",
    "    #print(len(csv_data_list))\n",
    "    #print(csv_data_list[1])\n",
    "    print(csv_data_list[0])\n",
    "    for row in csv_data_list[1:]:\n",
    "        #print(row)\n",
    "        #break\n",
    "        for i in range(len(row)):\n",
    "            if row[i]=='':\n",
    "                row[i] = 'NULL'\n",
    "            if '\"' in row[i]:\n",
    "                a = row[i].split('\"')\n",
    "                b = ''\n",
    "                for c in a:\n",
    "                    b = b + c\n",
    "                row[i] = b\n",
    "        x = 'INSERT INTO player VALUES ('\n",
    "        x = x + row[1] + ', '\n",
    "        x = x + row[2] + ', '\n",
    "        x = x + row[3] + ', '\n",
    "        x = x + '\"'+row[4]+'\"'+ ', '\n",
    "        x = x + '\"'+row[5]+'\"'+ ', '\n",
    "        x = x + '\"'+row[7]+'\"'+ ', '\n",
    "        x = x + '\"'+row[8]+'\"'+ ', '\n",
    "        x = x + '\"'+row[9]+'\"'+ ', '\n",
    "        x = x + row[10] + ', ' # \n",
    "        x = x + row[11] + ', ' # top_market_value\n",
    "        if row[6]=='NULL':\n",
    "            x = x + 'NULL'\n",
    "        else:\n",
    "            x = x + 'STR_TO_DATE({}, \"%Y-%m-%d\")'.format('\"'+row[6]+'\"')\n",
    "        x = x +');'\n",
    "        #print(x)\n",
    "        #break\n",
    "    #    row = tuple(map(lambda x: None if x == \"\" else x, row[0].split(',')))\n",
    "        #db_cursor.execute(x)\n",
    "        l.append(x)"
   ]
  },
  {
   "cell_type": "code",
   "execution_count": 64,
   "metadata": {},
   "outputs": [
    {
     "data": {
      "text/plain": [
       "23693"
      ]
     },
     "execution_count": 64,
     "metadata": {},
     "output_type": "execute_result"
    }
   ],
   "source": [
    "len(l)"
   ]
  },
  {
   "cell_type": "code",
   "execution_count": 66,
   "metadata": {},
   "outputs": [],
   "source": [
    "with open('../../temp.txt','w') as f:\n",
    "    for x in l:\n",
    "        f.write(x)\n",
    "        f.write(\"\\n\")"
   ]
  },
  {
   "cell_type": "code",
   "execution_count": 18,
   "metadata": {},
   "outputs": [
    {
     "data": {
      "text/plain": [
       "23693"
      ]
     },
     "execution_count": 18,
     "metadata": {},
     "output_type": "execute_result"
    }
   ],
   "source": [
    "db_cursor.execute(\"SELECT * FROM player\")\n",
    "x = db_cursor.fetchall()\n",
    "len(x)"
   ]
  },
  {
   "cell_type": "code",
   "execution_count": 19,
   "metadata": {},
   "outputs": [
    {
     "data": {
      "text/plain": [
       "'db_cursor.execute(\"Describe clubs_played_in\")\\nx = db_cursor.fetchall()\\nx'"
      ]
     },
     "execution_count": 19,
     "metadata": {},
     "output_type": "execute_result"
    }
   ],
   "source": [
    "\"\"\"db_cursor.execute(\"Describe clubs_played_in\")\n",
    "x = db_cursor.fetchall()\n",
    "x\"\"\""
   ]
  },
  {
   "cell_type": "code",
   "execution_count": 20,
   "metadata": {},
   "outputs": [],
   "source": [
    "db_cursor.execute(\"select club_id from club\")\n",
    "ids = db_cursor.fetchall()"
   ]
  },
  {
   "cell_type": "code",
   "execution_count": 21,
   "metadata": {
    "scrolled": true
   },
   "outputs": [
    {
     "data": {
      "text/plain": [
       "400"
      ]
     },
     "execution_count": 21,
     "metadata": {},
     "output_type": "execute_result"
    }
   ],
   "source": [
    "len(ids)"
   ]
  },
  {
   "cell_type": "code",
   "execution_count": 22,
   "metadata": {},
   "outputs": [
    {
     "data": {
      "text/plain": [
       "[(3,),\n",
       " (4,),\n",
       " (5,),\n",
       " (6,),\n",
       " (10,),\n",
       " (11,),\n",
       " (12,),\n",
       " (13,),\n",
       " (15,),\n",
       " (16,),\n",
       " (18,),\n",
       " (19,),\n",
       " (20,),\n",
       " (23,),\n",
       " (24,),\n",
       " (27,),\n",
       " (29,),\n",
       " (31,),\n",
       " (33,),\n",
       " (36,),\n",
       " (38,),\n",
       " (39,),\n",
       " (40,),\n",
       " (41,),\n",
       " (42,),\n",
       " (43,),\n",
       " (44,),\n",
       " (46,),\n",
       " (47,),\n",
       " (58,),\n",
       " (60,),\n",
       " (65,),\n",
       " (79,),\n",
       " (80,),\n",
       " (82,),\n",
       " (86,),\n",
       " (89,),\n",
       " (105,),\n",
       " (114,),\n",
       " (121,),\n",
       " (124,),\n",
       " (126,),\n",
       " (127,),\n",
       " (128,),\n",
       " (130,),\n",
       " (131,),\n",
       " (132,),\n",
       " (133,),\n",
       " (141,),\n",
       " (142,),\n",
       " (148,),\n",
       " (150,),\n",
       " (157,),\n",
       " (162,),\n",
       " (167,),\n",
       " (169,),\n",
       " (172,),\n",
       " (173,),\n",
       " (180,),\n",
       " (190,),\n",
       " (192,),\n",
       " (200,),\n",
       " (202,),\n",
       " (204,),\n",
       " (206,),\n",
       " (232,),\n",
       " (234,),\n",
       " (235,),\n",
       " (237,),\n",
       " (244,),\n",
       " (252,),\n",
       " (265,),\n",
       " (273,),\n",
       " (276,),\n",
       " (281,),\n",
       " (289,),\n",
       " (294,),\n",
       " (306,),\n",
       " (317,),\n",
       " (331,),\n",
       " (336,),\n",
       " (338,),\n",
       " (339,),\n",
       " (347,),\n",
       " (350,),\n",
       " (354,),\n",
       " (366,),\n",
       " (367,),\n",
       " (368,),\n",
       " (369,),\n",
       " (370,),\n",
       " (371,),\n",
       " (379,),\n",
       " (380,),\n",
       " (383,),\n",
       " (385,),\n",
       " (398,),\n",
       " (399,),\n",
       " (403,),\n",
       " (405,),\n",
       " (410,),\n",
       " (415,),\n",
       " (416,),\n",
       " (417,),\n",
       " (418,),\n",
       " (430,),\n",
       " (441,),\n",
       " (443,),\n",
       " (449,),\n",
       " (458,),\n",
       " (465,),\n",
       " (467,),\n",
       " (468,),\n",
       " (472,),\n",
       " (475,),\n",
       " (498,),\n",
       " (499,),\n",
       " (506,),\n",
       " (511,),\n",
       " (512,),\n",
       " (520,),\n",
       " (524,),\n",
       " (533,),\n",
       " (543,),\n",
       " (553,),\n",
       " (566,),\n",
       " (583,),\n",
       " (589,),\n",
       " (595,),\n",
       " (601,),\n",
       " (603,),\n",
       " (605,),\n",
       " (607,),\n",
       " (610,),\n",
       " (618,),\n",
       " (621,),\n",
       " (631,),\n",
       " (641,),\n",
       " (642,),\n",
       " (653,),\n",
       " (660,),\n",
       " (667,),\n",
       " (678,),\n",
       " (681,),\n",
       " (683,),\n",
       " (714,),\n",
       " (720,),\n",
       " (749,),\n",
       " (750,),\n",
       " (762,),\n",
       " (798,),\n",
       " (800,),\n",
       " (820,),\n",
       " (825,),\n",
       " (826,),\n",
       " (833,),\n",
       " (855,),\n",
       " (862,),\n",
       " (865,),\n",
       " (868,),\n",
       " (873,),\n",
       " (897,),\n",
       " (903,),\n",
       " (931,),\n",
       " (932,),\n",
       " (940,),\n",
       " (964,),\n",
       " (968,),\n",
       " (969,),\n",
       " (976,),\n",
       " (979,),\n",
       " (982,),\n",
       " (984,),\n",
       " (985,),\n",
       " (987,),\n",
       " (989,),\n",
       " (993,),\n",
       " (995,),\n",
       " (1003,),\n",
       " (1005,),\n",
       " (1010,),\n",
       " (1025,),\n",
       " (1032,),\n",
       " (1038,),\n",
       " (1039,),\n",
       " (1041,),\n",
       " (1049,),\n",
       " (1050,),\n",
       " (1053,),\n",
       " (1063,),\n",
       " (1071,),\n",
       " (1075,),\n",
       " (1082,),\n",
       " (1083,),\n",
       " (1084,),\n",
       " (1085,),\n",
       " (1090,),\n",
       " (1091,),\n",
       " (1095,),\n",
       " (1096,),\n",
       " (1108,),\n",
       " (1110,),\n",
       " (1123,),\n",
       " (1132,),\n",
       " (1147,),\n",
       " (1148,),\n",
       " (1158,),\n",
       " (1159,),\n",
       " (1160,),\n",
       " (1162,),\n",
       " (1177,),\n",
       " (1184,),\n",
       " (1186,),\n",
       " (1210,),\n",
       " (1237,),\n",
       " (1241,),\n",
       " (1244,),\n",
       " (1245,),\n",
       " (1268,),\n",
       " (1269,),\n",
       " (1283,),\n",
       " (1301,),\n",
       " (1304,),\n",
       " (1387,),\n",
       " (1390,),\n",
       " (1411,),\n",
       " (1416,),\n",
       " (1420,),\n",
       " (1421,),\n",
       " (1423,),\n",
       " (1426,),\n",
       " (1429,),\n",
       " (1435,),\n",
       " (1436,),\n",
       " (1455,),\n",
       " (1465,),\n",
       " (1467,),\n",
       " (1506,),\n",
       " (1519,),\n",
       " (1531,),\n",
       " (1533,),\n",
       " (1627,),\n",
       " (2079,),\n",
       " (2227,),\n",
       " (2282,),\n",
       " (2288,),\n",
       " (2292,),\n",
       " (2293,),\n",
       " (2323,),\n",
       " (2375,),\n",
       " (2381,),\n",
       " (2410,),\n",
       " (2414,),\n",
       " (2420,),\n",
       " (2423,),\n",
       " (2424,),\n",
       " (2425,),\n",
       " (2439,),\n",
       " (2441,),\n",
       " (2448,),\n",
       " (2451,),\n",
       " (2457,),\n",
       " (2477,),\n",
       " (2503,),\n",
       " (2553,),\n",
       " (2578,),\n",
       " (2671,),\n",
       " (2672,),\n",
       " (2687,),\n",
       " (2696,),\n",
       " (2698,),\n",
       " (2700,),\n",
       " (2703,),\n",
       " (2715,),\n",
       " (2722,),\n",
       " (2727,),\n",
       " (2740,),\n",
       " (2759,),\n",
       " (2760,),\n",
       " (2778,),\n",
       " (2783,),\n",
       " (2832,),\n",
       " (2861,),\n",
       " (2921,),\n",
       " (2944,),\n",
       " (2969,),\n",
       " (2990,),\n",
       " (2995,),\n",
       " (2999,),\n",
       " (3008,),\n",
       " (3057,),\n",
       " (3060,),\n",
       " (3205,),\n",
       " (3216,),\n",
       " (3302,),\n",
       " (3325,),\n",
       " (3327,),\n",
       " (3329,),\n",
       " (3336,),\n",
       " (3349,),\n",
       " (3368,),\n",
       " (3426,),\n",
       " (3508,),\n",
       " (3522,),\n",
       " (3524,),\n",
       " (3558,),\n",
       " (3592,),\n",
       " (3609,),\n",
       " (3690,),\n",
       " (3691,),\n",
       " (3709,),\n",
       " (3714,),\n",
       " (3719,),\n",
       " (3725,),\n",
       " (3729,),\n",
       " (3840,),\n",
       " (3911,),\n",
       " (3948,),\n",
       " (3999,),\n",
       " (4083,),\n",
       " (4102,),\n",
       " (4128,),\n",
       " (4171,),\n",
       " (4294,),\n",
       " (4482,),\n",
       " (4603,),\n",
       " (4750,),\n",
       " (4795,),\n",
       " (5219,),\n",
       " (5220,),\n",
       " (5358,),\n",
       " (5572,),\n",
       " (5724,),\n",
       " (5817,),\n",
       " (5818,),\n",
       " (6195,),\n",
       " (6414,),\n",
       " (6418,),\n",
       " (6574,),\n",
       " (6646,),\n",
       " (6676,),\n",
       " (6890,),\n",
       " (6894,),\n",
       " (6912,),\n",
       " (6992,),\n",
       " (6993,),\n",
       " (6994,),\n",
       " (6996,),\n",
       " (7179,),\n",
       " (7185,),\n",
       " (7378,),\n",
       " (7775,),\n",
       " (8024,),\n",
       " (8838,),\n",
       " (8970,),\n",
       " (9007,),\n",
       " (10484,),\n",
       " (10690,),\n",
       " (11126,),\n",
       " (11127,),\n",
       " (11282,),\n",
       " (11688,),\n",
       " (12321,),\n",
       " (12438,),\n",
       " (14171,),\n",
       " (14589,),\n",
       " (16239,),\n",
       " (16245,),\n",
       " (16247,),\n",
       " (16704,),\n",
       " (16795,),\n",
       " (18105,),\n",
       " (18303,),\n",
       " (19657,),\n",
       " (19771,),\n",
       " (19789,),\n",
       " (20100,),\n",
       " (20698,),\n",
       " (21957,),\n",
       " (22110,),\n",
       " (23611,),\n",
       " (23826,),\n",
       " (26459,),\n",
       " (28095,),\n",
       " (28643,),\n",
       " (28956,),\n",
       " (29228,),\n",
       " (39722,),\n",
       " (40426,),\n",
       " (41201,),\n",
       " (41231,),\n",
       " (41274,),\n",
       " (48332,),\n",
       " (48726,),\n",
       " (49364,),\n",
       " (49702,),\n",
       " (55686,),\n",
       " (60551,),\n",
       " (60949,),\n",
       " (61825,)]"
      ]
     },
     "execution_count": 22,
     "metadata": {},
     "output_type": "execute_result"
    }
   ],
   "source": [
    "ids"
   ]
  },
  {
   "cell_type": "code",
   "execution_count": 23,
   "metadata": {},
   "outputs": [],
   "source": [
    "all_ids = [x[0] for x in ids]"
   ]
  },
  {
   "cell_type": "code",
   "execution_count": 24,
   "metadata": {},
   "outputs": [],
   "source": [
    "#all_ids"
   ]
  },
  {
   "cell_type": "code",
   "execution_count": 25,
   "metadata": {},
   "outputs": [],
   "source": [
    "db_cursor.execute(\"delete from clubs_played_in\")"
   ]
  },
  {
   "cell_type": "code",
   "execution_count": 70,
   "metadata": {},
   "outputs": [
    {
     "name": "stdout",
     "output_type": "stream",
     "text": [
      "['', 'game_id', 'competition_code', 'season', 'round', 'date', 'home_club_id', 'away_club_id', 'home_club_goals', 'away_club_goals', 'stadium', 'attendance', 'referee']\n",
      "10863\n"
     ]
    }
   ],
   "source": [
    "### CLUB\n",
    "l2 = []\n",
    "file_path = '../../datas/results/Clubs_Played_In.csv'\n",
    "with open(file_path, mode='r') as csv_data:\n",
    "    \n",
    "    reader = csv.reader(csv_data, delimiter=',')\n",
    "    csv_data_list = list(reader)\n",
    "    #print(len(csv_data_list))\n",
    "    #print(csv_data_list[1])\n",
    "    j = 0\n",
    "    print(csv_data_list[0])\n",
    "    for row in csv_data_list[1:]:\n",
    "        #print(row)\n",
    "        #break\n",
    "        if not (int(row[6]) in all_ids and int(row[7]) in all_ids) :\n",
    "            j +=1\n",
    "            continue\n",
    "        for i in range(len(row)):\n",
    "            if row[i]=='':\n",
    "                row[i] = 'NULL'\n",
    "            if '\"' in row[i]:\n",
    "                a = row[i].split('\"')\n",
    "                b = ''\n",
    "                for c in a:\n",
    "                    b = b + c\n",
    "                row[i] = b\n",
    "        x = 'INSERT INTO clubs_played_in VALUES ('\n",
    "        x = x + row[1] + ', '\n",
    "        x = x + '\"'+row[2]+'\"'+ ', '\n",
    "        x = x + row[3] + ', '\n",
    "        x = x + '\"'+row[4]+'\"'+ ', '\n",
    "        if row[5]=='NULL':\n",
    "            x = x + 'NULL, '\n",
    "        else:\n",
    "            x = x + 'STR_TO_DATE({}, \"%Y-%m-%d\")'.format('\"'+row[5]+'\"') + ', '\n",
    "        x = x +row[6]+ ', '\n",
    "        x = x +row[7]+ ', '\n",
    "        x = x +row[8]+ ', '\n",
    "        x = x +row[9]+ ', '\n",
    "        x = x + '\"'+row[10]+'\"'+ ', '\n",
    "        if row[11]=='NULL':\n",
    "            x = x + 'NULL, '\n",
    "        else:\n",
    "            x = x + str(int(float(row[11]))) + ', ' \n",
    "        x = x + '\"'+row[12]+'\"'\n",
    "        x = x +');'\n",
    "        #print(x)\n",
    "        #break\n",
    "    #    row = tuple(map(lambda x: None if x == \"\" else x, row[0].split(',')))\n",
    "        #db_cursor.execute(x)\n",
    "        l2.append(x)\n",
    "    print(j)"
   ]
  },
  {
   "cell_type": "code",
   "execution_count": 27,
   "metadata": {},
   "outputs": [],
   "source": [
    " # 10863 not inserted as clubs.csv did not have club_ids for them"
   ]
  },
  {
   "cell_type": "code",
   "execution_count": 71,
   "metadata": {},
   "outputs": [],
   "source": [
    "with open('../../temp2.txt','w') as f:\n",
    "    for x in l2:\n",
    "        f.write(x)\n",
    "        f.write(\"\\n\")"
   ]
  },
  {
   "cell_type": "code",
   "execution_count": 75,
   "metadata": {},
   "outputs": [
    {
     "data": {
      "text/plain": [
       "45234"
      ]
     },
     "execution_count": 75,
     "metadata": {},
     "output_type": "execute_result"
    }
   ],
   "source": [
    "len(l2)"
   ]
  },
  {
   "cell_type": "code",
   "execution_count": 28,
   "metadata": {},
   "outputs": [
    {
     "data": {
      "text/plain": [
       "(45234, (2460633,))"
      ]
     },
     "execution_count": 28,
     "metadata": {},
     "output_type": "execute_result"
    }
   ],
   "source": [
    "db_cursor.execute(\"select game_id from clubs_played_in\")\n",
    "game_ids = db_cursor.fetchall()\n",
    "len(game_ids),game_ids[0]"
   ]
  },
  {
   "cell_type": "code",
   "execution_count": 29,
   "metadata": {},
   "outputs": [],
   "source": [
    "game_ids = [x[0] for x in game_ids]"
   ]
  },
  {
   "cell_type": "code",
   "execution_count": 33,
   "metadata": {},
   "outputs": [
    {
     "data": {
      "text/plain": [
       "(23693, (1126,))"
      ]
     },
     "execution_count": 33,
     "metadata": {},
     "output_type": "execute_result"
    }
   ],
   "source": [
    "db_cursor.execute(\"select player_id from player\")\n",
    "player_id = db_cursor.fetchall()\n",
    "len(player_id),player_id[0]"
   ]
  },
  {
   "cell_type": "code",
   "execution_count": 34,
   "metadata": {},
   "outputs": [],
   "source": [
    "player_id = [x[0] for x in player_id]"
   ]
  },
  {
   "cell_type": "code",
   "execution_count": 38,
   "metadata": {
    "scrolled": false
   },
   "outputs": [],
   "source": [
    "db_cursor.execute(\"delete from player_played_in\")"
   ]
  },
  {
   "cell_type": "code",
   "execution_count": 72,
   "metadata": {
    "scrolled": true
   },
   "outputs": [
    {
     "name": "stdout",
     "output_type": "stream",
     "text": [
      "['', 'player_id', 'game_id', 'appearance_id', 'competition_id', 'player_club_id', 'goals', 'assists', 'minutes_played', 'yellow_cards', 'red_cards']\n",
      "50818\n"
     ]
    }
   ],
   "source": [
    "### CLUB\n",
    "l3 = []\n",
    "file_path = '../../datas/results/Player_Played_In.csv'\n",
    "with open(file_path, mode='r') as csv_data:\n",
    "    \n",
    "    reader = csv.reader(csv_data, delimiter=',')\n",
    "    csv_data_list = list(reader)\n",
    "    #print(len(csv_data_list))\n",
    "    #print(csv_data_list[1])\n",
    "    j = 0\n",
    "    print(csv_data_list[0])\n",
    "    for row in csv_data_list[1:]:\n",
    "        #print(row)\n",
    "        #break\n",
    "        if (row[2]=='') or not (int(float(row[2])) in game_ids and int(row[1]) in player_id):\n",
    "            j +=1\n",
    "            continue\n",
    "        for i in range(len(row)):\n",
    "            if row[i]=='':                row[i] = 'NULL'\n",
    "            if '\"' in row[i]:\n",
    "                a = row[i].split('\"')\n",
    "                b = ''\n",
    "                for c in a:\n",
    "                    b = b + c\n",
    "                row[i] = b\n",
    "        x = 'INSERT INTO player_played_in VALUES ('\n",
    "        x = x + row[1] + ', '\n",
    "        if row[2]=='NULL':\n",
    "            x = x + 'NULL, '\n",
    "        else:\n",
    "            x = x + str(int(float(row[2]))) + ', '\n",
    "        x = x + '\"'+row[4]+'\"'+ ', '\n",
    "        x = x +row[5]+ ', '\n",
    "        x = x +row[6]+ ', '\n",
    "        x = x +row[7]+ ', '\n",
    "        x = x +row[8]+ ', '\n",
    "        x = x +row[9]+ ', '\n",
    "        x = x +row[10]\n",
    "        x = x +');'\n",
    "        #print(x)\n",
    "        #break\n",
    "    #    row = tuple(map(lambda x: None if x == \"\" else x, row[0].split(',')))\n",
    "        #db_cursor.execute(x)\n",
    "        l3.append(x)\n",
    "    print(j)"
   ]
  },
  {
   "cell_type": "code",
   "execution_count": 73,
   "metadata": {},
   "outputs": [],
   "source": [
    "with open('../../temp3.txt','w') as f:\n",
    "    for x in l3:\n",
    "        f.write(x)\n",
    "        f.write(\"\\n\")"
   ]
  },
  {
   "cell_type": "code",
   "execution_count": 74,
   "metadata": {},
   "outputs": [
    {
     "data": {
      "text/plain": [
       "991007"
      ]
     },
     "execution_count": 74,
     "metadata": {},
     "output_type": "execute_result"
    }
   ],
   "source": [
    "len(l3)"
   ]
  },
  {
   "cell_type": "code",
   "execution_count": 40,
   "metadata": {},
   "outputs": [
    {
     "data": {
      "text/plain": [
       "991007"
      ]
     },
     "execution_count": 40,
     "metadata": {},
     "output_type": "execute_result"
    }
   ],
   "source": [
    "db_cursor.execute(\"select * from player_played_in\")\n",
    "x = db_cursor.fetchall()\n",
    "len(x)"
   ]
  },
  {
   "cell_type": "code",
   "execution_count": 62,
   "metadata": {},
   "outputs": [],
   "source": [
    "db_cursor.close()\n",
    "db_connection.close()"
   ]
  },
  {
   "cell_type": "code",
   "execution_count": null,
   "metadata": {},
   "outputs": [],
   "source": []
  },
  {
   "cell_type": "code",
   "execution_count": null,
   "metadata": {},
   "outputs": [],
   "source": []
  },
  {
   "cell_type": "code",
   "execution_count": null,
   "metadata": {},
   "outputs": [],
   "source": []
  },
  {
   "cell_type": "code",
   "execution_count": null,
   "metadata": {},
   "outputs": [],
   "source": []
  },
  {
   "cell_type": "code",
   "execution_count": null,
   "metadata": {},
   "outputs": [],
   "source": []
  },
  {
   "cell_type": "code",
   "execution_count": null,
   "metadata": {},
   "outputs": [],
   "source": []
  },
  {
   "cell_type": "code",
   "execution_count": null,
   "metadata": {},
   "outputs": [],
   "source": []
  },
  {
   "cell_type": "code",
   "execution_count": null,
   "metadata": {},
   "outputs": [],
   "source": []
  },
  {
   "cell_type": "code",
   "execution_count": null,
   "metadata": {},
   "outputs": [],
   "source": []
  },
  {
   "cell_type": "code",
   "execution_count": null,
   "metadata": {},
   "outputs": [],
   "source": []
  },
  {
   "cell_type": "code",
   "execution_count": null,
   "metadata": {},
   "outputs": [],
   "source": []
  }
 ],
 "metadata": {
  "kernelspec": {
   "display_name": "Python 3",
   "language": "python",
   "name": "python3"
  },
  "language_info": {
   "codemirror_mode": {
    "name": "ipython",
    "version": 3
   },
   "file_extension": ".py",
   "mimetype": "text/x-python",
   "name": "python",
   "nbconvert_exporter": "python",
   "pygments_lexer": "ipython3",
   "version": "3.8.3"
  }
 },
 "nbformat": 4,
 "nbformat_minor": 2
}
